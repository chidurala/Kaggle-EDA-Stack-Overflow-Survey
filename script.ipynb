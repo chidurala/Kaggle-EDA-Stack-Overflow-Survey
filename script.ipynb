{
 "cells": [
  {
   "cell_type": "code",
   "execution_count": 1,
   "metadata": {
    "collapsed": true
   },
   "outputs": [],
   "source": [
    "import numpy as np\n",
    "import pandas as pd\n",
    "import matplotlib.pyplot as plt\n",
    "import seaborn as sns\n",
    "%matplotlib inline "
   ]
  },
  {
   "cell_type": "code",
   "execution_count": 2,
   "metadata": {
    "collapsed": true
   },
   "outputs": [],
   "source": [
    "import pycountry"
   ]
  },
  {
   "cell_type": "code",
   "execution_count": 3,
   "metadata": {},
   "outputs": [
    {
     "data": {
      "text/html": [
       "<script>requirejs.config({paths: { 'plotly': ['https://cdn.plot.ly/plotly-latest.min']},});if(!window.Plotly) {{require(['plotly'],function(plotly) {window.Plotly=plotly;});}}</script>"
      ],
      "text/vnd.plotly.v1+html": [
       "<script>requirejs.config({paths: { 'plotly': ['https://cdn.plot.ly/plotly-latest.min']},});if(!window.Plotly) {{require(['plotly'],function(plotly) {window.Plotly=plotly;});}}</script>"
      ]
     },
     "metadata": {},
     "output_type": "display_data"
    }
   ],
   "source": [
    "from plotly.offline import init_notebook_mode, plot, iplot\n",
    "import plotly.graph_objs as go\n",
    "from plotly import tools\n",
    "init_notebook_mode(connected = True)\n",
    "\n",
    "import warnings\n",
    "warnings.filterwarnings('ignore')"
   ]
  },
  {
   "cell_type": "code",
   "execution_count": 4,
   "metadata": {
    "collapsed": true
   },
   "outputs": [],
   "source": [
    "import os"
   ]
  },
  {
   "cell_type": "code",
   "execution_count": 5,
   "metadata": {},
   "outputs": [
    {
     "data": {
      "text/plain": [
       "\"C:\\\\Users\\\\Schidu01\\\\Desktop\\\\Python'\\\\Kaggle\\\\Exploring Stack Overflow Survey\""
      ]
     },
     "execution_count": 5,
     "metadata": {},
     "output_type": "execute_result"
    }
   ],
   "source": [
    "os.getcwd()"
   ]
  },
  {
   "cell_type": "code",
   "execution_count": 6,
   "metadata": {},
   "outputs": [
    {
     "data": {
      "text/plain": [
       "['.ipynb_checkpoints',\n",
       " 'Brigadechards.pdf',\n",
       " 'hispanic_tables.pdf',\n",
       " 'read_pdf.ipynb',\n",
       " 'script.ipynb',\n",
       " 'script2.ipynb',\n",
       " 'survey_results_public.csv',\n",
       " 'survey_results_schema.csv',\n",
       " 'target-directory']"
      ]
     },
     "execution_count": 6,
     "metadata": {},
     "output_type": "execute_result"
    }
   ],
   "source": [
    "os.listdir()"
   ]
  },
  {
   "cell_type": "code",
   "execution_count": 8,
   "metadata": {},
   "outputs": [],
   "source": [
    "results = pd.read_csv('survey_results_public.csv')"
   ]
  },
  {
   "cell_type": "code",
   "execution_count": 9,
   "metadata": {},
   "outputs": [
    {
     "data": {
      "text/plain": [
       "(98855, 129)"
      ]
     },
     "execution_count": 9,
     "metadata": {},
     "output_type": "execute_result"
    }
   ],
   "source": [
    "results.shape"
   ]
  },
  {
   "cell_type": "code",
   "execution_count": 10,
   "metadata": {},
   "outputs": [
    {
     "data": {
      "text/plain": [
       "Respondent                       int64\n",
       "Hobby                           object\n",
       "OpenSource                      object\n",
       "Country                         object\n",
       "Student                         object\n",
       "Employment                      object\n",
       "FormalEducation                 object\n",
       "UndergradMajor                  object\n",
       "CompanySize                     object\n",
       "DevType                         object\n",
       "YearsCoding                     object\n",
       "YearsCodingProf                 object\n",
       "JobSatisfaction                 object\n",
       "CareerSatisfaction              object\n",
       "HopeFiveYears                   object\n",
       "JobSearchStatus                 object\n",
       "LastNewJob                      object\n",
       "AssessJob1                     float64\n",
       "AssessJob2                     float64\n",
       "AssessJob3                     float64\n",
       "AssessJob4                     float64\n",
       "AssessJob5                     float64\n",
       "AssessJob6                     float64\n",
       "AssessJob7                     float64\n",
       "AssessJob8                     float64\n",
       "AssessJob9                     float64\n",
       "AssessJob10                    float64\n",
       "AssessBenefits1                float64\n",
       "AssessBenefits2                float64\n",
       "AssessBenefits3                float64\n",
       "                                ...   \n",
       "EthicsResponsible               object\n",
       "EthicalImplications             object\n",
       "StackOverflowRecommend          object\n",
       "StackOverflowVisit              object\n",
       "StackOverflowHasAccount         object\n",
       "StackOverflowParticipate        object\n",
       "StackOverflowJobs               object\n",
       "StackOverflowDevStory           object\n",
       "StackOverflowJobsRecommend      object\n",
       "StackOverflowConsiderMember     object\n",
       "HypotheticalTools1              object\n",
       "HypotheticalTools2              object\n",
       "HypotheticalTools3              object\n",
       "HypotheticalTools4              object\n",
       "HypotheticalTools5              object\n",
       "WakeTime                        object\n",
       "HoursComputer                   object\n",
       "HoursOutside                    object\n",
       "SkipMeals                       object\n",
       "ErgonomicDevices                object\n",
       "Exercise                        object\n",
       "Gender                          object\n",
       "SexualOrientation               object\n",
       "EducationParents                object\n",
       "RaceEthnicity                   object\n",
       "Age                             object\n",
       "Dependents                      object\n",
       "MilitaryUS                      object\n",
       "SurveyTooLong                   object\n",
       "SurveyEasy                      object\n",
       "Length: 129, dtype: object"
      ]
     },
     "execution_count": 10,
     "metadata": {},
     "output_type": "execute_result"
    }
   ],
   "source": [
    "results.dtypes"
   ]
  },
  {
   "cell_type": "code",
   "execution_count": 11,
   "metadata": {},
   "outputs": [
    {
     "data": {
      "text/html": [
       "<div>\n",
       "<style>\n",
       "    .dataframe thead tr:only-child th {\n",
       "        text-align: right;\n",
       "    }\n",
       "\n",
       "    .dataframe thead th {\n",
       "        text-align: left;\n",
       "    }\n",
       "\n",
       "    .dataframe tbody tr th {\n",
       "        vertical-align: top;\n",
       "    }\n",
       "</style>\n",
       "<table border=\"1\" class=\"dataframe\">\n",
       "  <thead>\n",
       "    <tr style=\"text-align: right;\">\n",
       "      <th></th>\n",
       "      <th>Respondent</th>\n",
       "      <th>Hobby</th>\n",
       "      <th>OpenSource</th>\n",
       "      <th>Country</th>\n",
       "      <th>Student</th>\n",
       "      <th>Employment</th>\n",
       "      <th>FormalEducation</th>\n",
       "      <th>UndergradMajor</th>\n",
       "      <th>CompanySize</th>\n",
       "      <th>DevType</th>\n",
       "      <th>...</th>\n",
       "      <th>Exercise</th>\n",
       "      <th>Gender</th>\n",
       "      <th>SexualOrientation</th>\n",
       "      <th>EducationParents</th>\n",
       "      <th>RaceEthnicity</th>\n",
       "      <th>Age</th>\n",
       "      <th>Dependents</th>\n",
       "      <th>MilitaryUS</th>\n",
       "      <th>SurveyTooLong</th>\n",
       "      <th>SurveyEasy</th>\n",
       "    </tr>\n",
       "  </thead>\n",
       "  <tbody>\n",
       "    <tr>\n",
       "      <th>0</th>\n",
       "      <td>1</td>\n",
       "      <td>Yes</td>\n",
       "      <td>No</td>\n",
       "      <td>Kenya</td>\n",
       "      <td>No</td>\n",
       "      <td>Employed part-time</td>\n",
       "      <td>Bachelor’s degree (BA, BS, B.Eng., etc.)</td>\n",
       "      <td>Mathematics or statistics</td>\n",
       "      <td>20 to 99 employees</td>\n",
       "      <td>Full-stack developer</td>\n",
       "      <td>...</td>\n",
       "      <td>3 - 4 times per week</td>\n",
       "      <td>Male</td>\n",
       "      <td>Straight or heterosexual</td>\n",
       "      <td>Bachelor’s degree (BA, BS, B.Eng., etc.)</td>\n",
       "      <td>Black or of African descent</td>\n",
       "      <td>25 - 34 years old</td>\n",
       "      <td>Yes</td>\n",
       "      <td>NaN</td>\n",
       "      <td>The survey was an appropriate length</td>\n",
       "      <td>Very easy</td>\n",
       "    </tr>\n",
       "    <tr>\n",
       "      <th>1</th>\n",
       "      <td>3</td>\n",
       "      <td>Yes</td>\n",
       "      <td>Yes</td>\n",
       "      <td>United Kingdom</td>\n",
       "      <td>No</td>\n",
       "      <td>Employed full-time</td>\n",
       "      <td>Bachelor’s degree (BA, BS, B.Eng., etc.)</td>\n",
       "      <td>A natural science (ex. biology, chemistry, phy...</td>\n",
       "      <td>10,000 or more employees</td>\n",
       "      <td>Database administrator;DevOps specialist;Full-...</td>\n",
       "      <td>...</td>\n",
       "      <td>Daily or almost every day</td>\n",
       "      <td>Male</td>\n",
       "      <td>Straight or heterosexual</td>\n",
       "      <td>Bachelor’s degree (BA, BS, B.Eng., etc.)</td>\n",
       "      <td>White or of European descent</td>\n",
       "      <td>35 - 44 years old</td>\n",
       "      <td>Yes</td>\n",
       "      <td>NaN</td>\n",
       "      <td>The survey was an appropriate length</td>\n",
       "      <td>Somewhat easy</td>\n",
       "    </tr>\n",
       "    <tr>\n",
       "      <th>2</th>\n",
       "      <td>4</td>\n",
       "      <td>Yes</td>\n",
       "      <td>Yes</td>\n",
       "      <td>United States</td>\n",
       "      <td>No</td>\n",
       "      <td>Employed full-time</td>\n",
       "      <td>Associate degree</td>\n",
       "      <td>Computer science, computer engineering, or sof...</td>\n",
       "      <td>20 to 99 employees</td>\n",
       "      <td>Engineering manager;Full-stack developer</td>\n",
       "      <td>...</td>\n",
       "      <td>NaN</td>\n",
       "      <td>NaN</td>\n",
       "      <td>NaN</td>\n",
       "      <td>NaN</td>\n",
       "      <td>NaN</td>\n",
       "      <td>NaN</td>\n",
       "      <td>NaN</td>\n",
       "      <td>NaN</td>\n",
       "      <td>NaN</td>\n",
       "      <td>NaN</td>\n",
       "    </tr>\n",
       "    <tr>\n",
       "      <th>3</th>\n",
       "      <td>5</td>\n",
       "      <td>No</td>\n",
       "      <td>No</td>\n",
       "      <td>United States</td>\n",
       "      <td>No</td>\n",
       "      <td>Employed full-time</td>\n",
       "      <td>Bachelor’s degree (BA, BS, B.Eng., etc.)</td>\n",
       "      <td>Computer science, computer engineering, or sof...</td>\n",
       "      <td>100 to 499 employees</td>\n",
       "      <td>Full-stack developer</td>\n",
       "      <td>...</td>\n",
       "      <td>I don't typically exercise</td>\n",
       "      <td>Male</td>\n",
       "      <td>Straight or heterosexual</td>\n",
       "      <td>Some college/university study without earning ...</td>\n",
       "      <td>White or of European descent</td>\n",
       "      <td>35 - 44 years old</td>\n",
       "      <td>No</td>\n",
       "      <td>No</td>\n",
       "      <td>The survey was an appropriate length</td>\n",
       "      <td>Somewhat easy</td>\n",
       "    </tr>\n",
       "    <tr>\n",
       "      <th>4</th>\n",
       "      <td>7</td>\n",
       "      <td>Yes</td>\n",
       "      <td>No</td>\n",
       "      <td>South Africa</td>\n",
       "      <td>Yes, part-time</td>\n",
       "      <td>Employed full-time</td>\n",
       "      <td>Some college/university study without earning ...</td>\n",
       "      <td>Computer science, computer engineering, or sof...</td>\n",
       "      <td>10,000 or more employees</td>\n",
       "      <td>Data or business analyst;Desktop or enterprise...</td>\n",
       "      <td>...</td>\n",
       "      <td>3 - 4 times per week</td>\n",
       "      <td>Male</td>\n",
       "      <td>Straight or heterosexual</td>\n",
       "      <td>Some college/university study without earning ...</td>\n",
       "      <td>White or of European descent</td>\n",
       "      <td>18 - 24 years old</td>\n",
       "      <td>Yes</td>\n",
       "      <td>NaN</td>\n",
       "      <td>The survey was an appropriate length</td>\n",
       "      <td>Somewhat easy</td>\n",
       "    </tr>\n",
       "  </tbody>\n",
       "</table>\n",
       "<p>5 rows × 129 columns</p>\n",
       "</div>"
      ],
      "text/plain": [
       "   Respondent Hobby OpenSource         Country         Student  \\\n",
       "0           1   Yes         No           Kenya              No   \n",
       "1           3   Yes        Yes  United Kingdom              No   \n",
       "2           4   Yes        Yes   United States              No   \n",
       "3           5    No         No   United States              No   \n",
       "4           7   Yes         No    South Africa  Yes, part-time   \n",
       "\n",
       "           Employment                                    FormalEducation  \\\n",
       "0  Employed part-time           Bachelor’s degree (BA, BS, B.Eng., etc.)   \n",
       "1  Employed full-time           Bachelor’s degree (BA, BS, B.Eng., etc.)   \n",
       "2  Employed full-time                                   Associate degree   \n",
       "3  Employed full-time           Bachelor’s degree (BA, BS, B.Eng., etc.)   \n",
       "4  Employed full-time  Some college/university study without earning ...   \n",
       "\n",
       "                                      UndergradMajor  \\\n",
       "0                          Mathematics or statistics   \n",
       "1  A natural science (ex. biology, chemistry, phy...   \n",
       "2  Computer science, computer engineering, or sof...   \n",
       "3  Computer science, computer engineering, or sof...   \n",
       "4  Computer science, computer engineering, or sof...   \n",
       "\n",
       "                CompanySize  \\\n",
       "0        20 to 99 employees   \n",
       "1  10,000 or more employees   \n",
       "2        20 to 99 employees   \n",
       "3      100 to 499 employees   \n",
       "4  10,000 or more employees   \n",
       "\n",
       "                                             DevType      ...        \\\n",
       "0                               Full-stack developer      ...         \n",
       "1  Database administrator;DevOps specialist;Full-...      ...         \n",
       "2           Engineering manager;Full-stack developer      ...         \n",
       "3                               Full-stack developer      ...         \n",
       "4  Data or business analyst;Desktop or enterprise...      ...         \n",
       "\n",
       "                     Exercise Gender         SexualOrientation  \\\n",
       "0        3 - 4 times per week   Male  Straight or heterosexual   \n",
       "1   Daily or almost every day   Male  Straight or heterosexual   \n",
       "2                         NaN    NaN                       NaN   \n",
       "3  I don't typically exercise   Male  Straight or heterosexual   \n",
       "4        3 - 4 times per week   Male  Straight or heterosexual   \n",
       "\n",
       "                                    EducationParents  \\\n",
       "0           Bachelor’s degree (BA, BS, B.Eng., etc.)   \n",
       "1           Bachelor’s degree (BA, BS, B.Eng., etc.)   \n",
       "2                                                NaN   \n",
       "3  Some college/university study without earning ...   \n",
       "4  Some college/university study without earning ...   \n",
       "\n",
       "                  RaceEthnicity                Age Dependents  MilitaryUS  \\\n",
       "0   Black or of African descent  25 - 34 years old        Yes         NaN   \n",
       "1  White or of European descent  35 - 44 years old        Yes         NaN   \n",
       "2                           NaN                NaN        NaN         NaN   \n",
       "3  White or of European descent  35 - 44 years old         No          No   \n",
       "4  White or of European descent  18 - 24 years old        Yes         NaN   \n",
       "\n",
       "                          SurveyTooLong     SurveyEasy  \n",
       "0  The survey was an appropriate length      Very easy  \n",
       "1  The survey was an appropriate length  Somewhat easy  \n",
       "2                                   NaN            NaN  \n",
       "3  The survey was an appropriate length  Somewhat easy  \n",
       "4  The survey was an appropriate length  Somewhat easy  \n",
       "\n",
       "[5 rows x 129 columns]"
      ]
     },
     "execution_count": 11,
     "metadata": {},
     "output_type": "execute_result"
    }
   ],
   "source": [
    "results.head()"
   ]
  },
  {
   "cell_type": "code",
   "execution_count": 12,
   "metadata": {},
   "outputs": [
    {
     "data": {
      "text/html": [
       "<div>\n",
       "<style>\n",
       "    .dataframe thead tr:only-child th {\n",
       "        text-align: right;\n",
       "    }\n",
       "\n",
       "    .dataframe thead th {\n",
       "        text-align: left;\n",
       "    }\n",
       "\n",
       "    .dataframe tbody tr th {\n",
       "        vertical-align: top;\n",
       "    }\n",
       "</style>\n",
       "<table border=\"1\" class=\"dataframe\">\n",
       "  <thead>\n",
       "    <tr style=\"text-align: right;\">\n",
       "      <th></th>\n",
       "      <th>Respondent</th>\n",
       "      <th>AssessJob1</th>\n",
       "      <th>AssessJob2</th>\n",
       "      <th>AssessJob3</th>\n",
       "      <th>AssessJob4</th>\n",
       "      <th>AssessJob5</th>\n",
       "      <th>AssessJob6</th>\n",
       "      <th>AssessJob7</th>\n",
       "      <th>AssessJob8</th>\n",
       "      <th>AssessJob9</th>\n",
       "      <th>...</th>\n",
       "      <th>JobEmailPriorities6</th>\n",
       "      <th>JobEmailPriorities7</th>\n",
       "      <th>ConvertedSalary</th>\n",
       "      <th>AdsPriorities1</th>\n",
       "      <th>AdsPriorities2</th>\n",
       "      <th>AdsPriorities3</th>\n",
       "      <th>AdsPriorities4</th>\n",
       "      <th>AdsPriorities5</th>\n",
       "      <th>AdsPriorities6</th>\n",
       "      <th>AdsPriorities7</th>\n",
       "    </tr>\n",
       "  </thead>\n",
       "  <tbody>\n",
       "    <tr>\n",
       "      <th>count</th>\n",
       "      <td>98855.000000</td>\n",
       "      <td>66985.000000</td>\n",
       "      <td>66985.000000</td>\n",
       "      <td>66985.000000</td>\n",
       "      <td>66985.000000</td>\n",
       "      <td>66985.000000</td>\n",
       "      <td>66985.000000</td>\n",
       "      <td>66985.000000</td>\n",
       "      <td>66985.000000</td>\n",
       "      <td>66985.000000</td>\n",
       "      <td>...</td>\n",
       "      <td>46213.00000</td>\n",
       "      <td>46213.000000</td>\n",
       "      <td>4.770200e+04</td>\n",
       "      <td>60479.000000</td>\n",
       "      <td>60479.000000</td>\n",
       "      <td>60479.000000</td>\n",
       "      <td>60479.000000</td>\n",
       "      <td>60479.000000</td>\n",
       "      <td>60479.000000</td>\n",
       "      <td>60479.000000</td>\n",
       "    </tr>\n",
       "    <tr>\n",
       "      <th>mean</th>\n",
       "      <td>50822.971635</td>\n",
       "      <td>6.397089</td>\n",
       "      <td>6.673524</td>\n",
       "      <td>5.906875</td>\n",
       "      <td>4.065791</td>\n",
       "      <td>3.953243</td>\n",
       "      <td>4.407196</td>\n",
       "      <td>5.673181</td>\n",
       "      <td>4.225200</td>\n",
       "      <td>7.640009</td>\n",
       "      <td>...</td>\n",
       "      <td>4.97425</td>\n",
       "      <td>4.836388</td>\n",
       "      <td>9.578086e+04</td>\n",
       "      <td>2.726880</td>\n",
       "      <td>3.805784</td>\n",
       "      <td>3.340945</td>\n",
       "      <td>3.782470</td>\n",
       "      <td>4.383604</td>\n",
       "      <td>5.138809</td>\n",
       "      <td>4.821459</td>\n",
       "    </tr>\n",
       "    <tr>\n",
       "      <th>std</th>\n",
       "      <td>29321.650410</td>\n",
       "      <td>2.788428</td>\n",
       "      <td>2.531202</td>\n",
       "      <td>2.642734</td>\n",
       "      <td>2.541196</td>\n",
       "      <td>2.520499</td>\n",
       "      <td>2.502069</td>\n",
       "      <td>2.923998</td>\n",
       "      <td>2.507411</td>\n",
       "      <td>2.407457</td>\n",
       "      <td>...</td>\n",
       "      <td>1.86063</td>\n",
       "      <td>1.659844</td>\n",
       "      <td>2.023482e+05</td>\n",
       "      <td>1.881078</td>\n",
       "      <td>1.821323</td>\n",
       "      <td>1.673485</td>\n",
       "      <td>1.844864</td>\n",
       "      <td>1.931746</td>\n",
       "      <td>1.853249</td>\n",
       "      <td>1.874895</td>\n",
       "    </tr>\n",
       "    <tr>\n",
       "      <th>min</th>\n",
       "      <td>1.000000</td>\n",
       "      <td>1.000000</td>\n",
       "      <td>1.000000</td>\n",
       "      <td>1.000000</td>\n",
       "      <td>1.000000</td>\n",
       "      <td>1.000000</td>\n",
       "      <td>1.000000</td>\n",
       "      <td>1.000000</td>\n",
       "      <td>1.000000</td>\n",
       "      <td>1.000000</td>\n",
       "      <td>...</td>\n",
       "      <td>1.00000</td>\n",
       "      <td>1.000000</td>\n",
       "      <td>0.000000e+00</td>\n",
       "      <td>1.000000</td>\n",
       "      <td>1.000000</td>\n",
       "      <td>1.000000</td>\n",
       "      <td>1.000000</td>\n",
       "      <td>1.000000</td>\n",
       "      <td>1.000000</td>\n",
       "      <td>1.000000</td>\n",
       "    </tr>\n",
       "    <tr>\n",
       "      <th>25%</th>\n",
       "      <td>25443.500000</td>\n",
       "      <td>4.000000</td>\n",
       "      <td>5.000000</td>\n",
       "      <td>4.000000</td>\n",
       "      <td>2.000000</td>\n",
       "      <td>2.000000</td>\n",
       "      <td>2.000000</td>\n",
       "      <td>3.000000</td>\n",
       "      <td>2.000000</td>\n",
       "      <td>6.000000</td>\n",
       "      <td>...</td>\n",
       "      <td>4.00000</td>\n",
       "      <td>4.000000</td>\n",
       "      <td>2.384400e+04</td>\n",
       "      <td>1.000000</td>\n",
       "      <td>2.000000</td>\n",
       "      <td>2.000000</td>\n",
       "      <td>2.000000</td>\n",
       "      <td>3.000000</td>\n",
       "      <td>4.000000</td>\n",
       "      <td>3.000000</td>\n",
       "    </tr>\n",
       "    <tr>\n",
       "      <th>50%</th>\n",
       "      <td>50823.000000</td>\n",
       "      <td>7.000000</td>\n",
       "      <td>7.000000</td>\n",
       "      <td>6.000000</td>\n",
       "      <td>4.000000</td>\n",
       "      <td>3.000000</td>\n",
       "      <td>4.000000</td>\n",
       "      <td>6.000000</td>\n",
       "      <td>4.000000</td>\n",
       "      <td>8.000000</td>\n",
       "      <td>...</td>\n",
       "      <td>5.00000</td>\n",
       "      <td>5.000000</td>\n",
       "      <td>5.507500e+04</td>\n",
       "      <td>2.000000</td>\n",
       "      <td>4.000000</td>\n",
       "      <td>3.000000</td>\n",
       "      <td>4.000000</td>\n",
       "      <td>5.000000</td>\n",
       "      <td>6.000000</td>\n",
       "      <td>5.000000</td>\n",
       "    </tr>\n",
       "    <tr>\n",
       "      <th>75%</th>\n",
       "      <td>76219.500000</td>\n",
       "      <td>9.000000</td>\n",
       "      <td>9.000000</td>\n",
       "      <td>8.000000</td>\n",
       "      <td>6.000000</td>\n",
       "      <td>6.000000</td>\n",
       "      <td>6.000000</td>\n",
       "      <td>8.000000</td>\n",
       "      <td>6.000000</td>\n",
       "      <td>10.000000</td>\n",
       "      <td>...</td>\n",
       "      <td>7.00000</td>\n",
       "      <td>6.000000</td>\n",
       "      <td>9.300000e+04</td>\n",
       "      <td>4.000000</td>\n",
       "      <td>5.000000</td>\n",
       "      <td>5.000000</td>\n",
       "      <td>5.000000</td>\n",
       "      <td>6.000000</td>\n",
       "      <td>7.000000</td>\n",
       "      <td>7.000000</td>\n",
       "    </tr>\n",
       "    <tr>\n",
       "      <th>max</th>\n",
       "      <td>101592.000000</td>\n",
       "      <td>10.000000</td>\n",
       "      <td>10.000000</td>\n",
       "      <td>10.000000</td>\n",
       "      <td>10.000000</td>\n",
       "      <td>10.000000</td>\n",
       "      <td>10.000000</td>\n",
       "      <td>10.000000</td>\n",
       "      <td>10.000000</td>\n",
       "      <td>10.000000</td>\n",
       "      <td>...</td>\n",
       "      <td>7.00000</td>\n",
       "      <td>7.000000</td>\n",
       "      <td>2.000000e+06</td>\n",
       "      <td>7.000000</td>\n",
       "      <td>7.000000</td>\n",
       "      <td>7.000000</td>\n",
       "      <td>7.000000</td>\n",
       "      <td>7.000000</td>\n",
       "      <td>7.000000</td>\n",
       "      <td>7.000000</td>\n",
       "    </tr>\n",
       "  </tbody>\n",
       "</table>\n",
       "<p>8 rows × 42 columns</p>\n",
       "</div>"
      ],
      "text/plain": [
       "          Respondent    AssessJob1    AssessJob2    AssessJob3    AssessJob4  \\\n",
       "count   98855.000000  66985.000000  66985.000000  66985.000000  66985.000000   \n",
       "mean    50822.971635      6.397089      6.673524      5.906875      4.065791   \n",
       "std     29321.650410      2.788428      2.531202      2.642734      2.541196   \n",
       "min         1.000000      1.000000      1.000000      1.000000      1.000000   \n",
       "25%     25443.500000      4.000000      5.000000      4.000000      2.000000   \n",
       "50%     50823.000000      7.000000      7.000000      6.000000      4.000000   \n",
       "75%     76219.500000      9.000000      9.000000      8.000000      6.000000   \n",
       "max    101592.000000     10.000000     10.000000     10.000000     10.000000   \n",
       "\n",
       "         AssessJob5    AssessJob6    AssessJob7    AssessJob8    AssessJob9  \\\n",
       "count  66985.000000  66985.000000  66985.000000  66985.000000  66985.000000   \n",
       "mean       3.953243      4.407196      5.673181      4.225200      7.640009   \n",
       "std        2.520499      2.502069      2.923998      2.507411      2.407457   \n",
       "min        1.000000      1.000000      1.000000      1.000000      1.000000   \n",
       "25%        2.000000      2.000000      3.000000      2.000000      6.000000   \n",
       "50%        3.000000      4.000000      6.000000      4.000000      8.000000   \n",
       "75%        6.000000      6.000000      8.000000      6.000000     10.000000   \n",
       "max       10.000000     10.000000     10.000000     10.000000     10.000000   \n",
       "\n",
       "            ...        JobEmailPriorities6  JobEmailPriorities7  \\\n",
       "count       ...                46213.00000         46213.000000   \n",
       "mean        ...                    4.97425             4.836388   \n",
       "std         ...                    1.86063             1.659844   \n",
       "min         ...                    1.00000             1.000000   \n",
       "25%         ...                    4.00000             4.000000   \n",
       "50%         ...                    5.00000             5.000000   \n",
       "75%         ...                    7.00000             6.000000   \n",
       "max         ...                    7.00000             7.000000   \n",
       "\n",
       "       ConvertedSalary  AdsPriorities1  AdsPriorities2  AdsPriorities3  \\\n",
       "count     4.770200e+04    60479.000000    60479.000000    60479.000000   \n",
       "mean      9.578086e+04        2.726880        3.805784        3.340945   \n",
       "std       2.023482e+05        1.881078        1.821323        1.673485   \n",
       "min       0.000000e+00        1.000000        1.000000        1.000000   \n",
       "25%       2.384400e+04        1.000000        2.000000        2.000000   \n",
       "50%       5.507500e+04        2.000000        4.000000        3.000000   \n",
       "75%       9.300000e+04        4.000000        5.000000        5.000000   \n",
       "max       2.000000e+06        7.000000        7.000000        7.000000   \n",
       "\n",
       "       AdsPriorities4  AdsPriorities5  AdsPriorities6  AdsPriorities7  \n",
       "count    60479.000000    60479.000000    60479.000000    60479.000000  \n",
       "mean         3.782470        4.383604        5.138809        4.821459  \n",
       "std          1.844864        1.931746        1.853249        1.874895  \n",
       "min          1.000000        1.000000        1.000000        1.000000  \n",
       "25%          2.000000        3.000000        4.000000        3.000000  \n",
       "50%          4.000000        5.000000        6.000000        5.000000  \n",
       "75%          5.000000        6.000000        7.000000        7.000000  \n",
       "max          7.000000        7.000000        7.000000        7.000000  \n",
       "\n",
       "[8 rows x 42 columns]"
      ]
     },
     "execution_count": 12,
     "metadata": {},
     "output_type": "execute_result"
    }
   ],
   "source": [
    "results.describe()"
   ]
  },
  {
   "cell_type": "code",
   "execution_count": null,
   "metadata": {
    "collapsed": true
   },
   "outputs": [],
   "source": []
  },
  {
   "cell_type": "code",
   "execution_count": 23,
   "metadata": {
    "collapsed": true
   },
   "outputs": [],
   "source": [
    "#Pie\n",
    "def plotlypie(labels, values, hole, pull, colors,title):\n",
    "    data = [go.Pie(\n",
    "        labels = labels,\n",
    "        values = values,\n",
    "        hole = hole,\n",
    "        pull = pull,\n",
    "       marker = dict(colors=colors)\n",
    "    )]\n",
    "    layout = go.Layout(title = title)\n",
    "    figure = go.Figure(data=data, layout=layout)\n",
    "    iplot(figure)"
   ]
  },
  {
   "cell_type": "code",
   "execution_count": 29,
   "metadata": {},
   "outputs": [
    {
     "data": {
      "application/vnd.plotly.v1+json": {
       "data": [
        {
         "hole": 0.6,
         "labels": [
          "Yes",
          "No"
         ],
         "marker": {
          "colors": [
           "#FEBFB3",
           "#E1396C"
          ]
         },
         "pull": 0.5,
         "type": "pie",
         "values": [
          79897,
          18958
         ]
        }
       ],
       "layout": {
        "title": "% of developers having Coding as Hobby"
       }
      },
      "text/html": [
       "<div id=\"78372b98-8f64-49fa-a304-5a1b48920077\" style=\"height: 525px; width: 100%;\" class=\"plotly-graph-div\"></div><script type=\"text/javascript\">require([\"plotly\"], function(Plotly) { window.PLOTLYENV=window.PLOTLYENV || {};window.PLOTLYENV.BASE_URL=\"https://plot.ly\";Plotly.newPlot(\"78372b98-8f64-49fa-a304-5a1b48920077\", [{\"type\": \"pie\", \"labels\": [\"Yes\", \"No\"], \"values\": [79897, 18958], \"hole\": 0.6, \"pull\": 0.5, \"marker\": {\"colors\": [\"#FEBFB3\", \"#E1396C\"]}}], {\"title\": \"% of developers having Coding as Hobby\"}, {\"showLink\": true, \"linkText\": \"Export to plot.ly\"})});</script>"
      ],
      "text/vnd.plotly.v1+html": [
       "<div id=\"78372b98-8f64-49fa-a304-5a1b48920077\" style=\"height: 525px; width: 100%;\" class=\"plotly-graph-div\"></div><script type=\"text/javascript\">require([\"plotly\"], function(Plotly) { window.PLOTLYENV=window.PLOTLYENV || {};window.PLOTLYENV.BASE_URL=\"https://plot.ly\";Plotly.newPlot(\"78372b98-8f64-49fa-a304-5a1b48920077\", [{\"type\": \"pie\", \"labels\": [\"Yes\", \"No\"], \"values\": [79897, 18958], \"hole\": 0.6, \"pull\": 0.5, \"marker\": {\"colors\": [\"#FEBFB3\", \"#E1396C\"]}}], {\"title\": \"% of developers having Coding as Hobby\"}, {\"showLink\": true, \"linkText\": \"Export to plot.ly\"})});</script>"
      ]
     },
     "metadata": {},
     "output_type": "display_data"
    }
   ],
   "source": [
    "hobbies = results['Hobby'].value_counts()\n",
    "\n",
    "colors = ['#FEBFB3', '#E1396C']\n",
    "plotlypie(hobbies.index, hobbies.values, 0.6 ,0.5, colors, '% of developers having Coding as Hobby' )"
   ]
  },
  {
   "cell_type": "code",
   "execution_count": 27,
   "metadata": {
    "collapsed": true
   },
   "outputs": [],
   "source": [
    "#Bar\n",
    "\n",
    "def plotlybar(labels1 = None, values1 = None, names1 = None, labels2 = None, values2 = None, names2 = None,\n",
    "             markercolor1 = '#9ECAE1', markercolor2 = '#ff99ff', title=None, orientation ='v', mode = 'group'):\n",
    "    trace1 = go.Bar(\n",
    "        x= labels1,\n",
    "        y=values1,\n",
    "        orientation = orientation,\n",
    "        text = values1,\n",
    "        name = names1,\n",
    "        textposition = 'auto',\n",
    "        marker = dict(color = markercolor1)\n",
    "    )\n",
    "    \n",
    "    if labels2 is not None:\n",
    "        trace2 = go.Bar(\n",
    "        x= labels2,\n",
    "        y=values2,\n",
    "        orientation = orientation,\n",
    "        text = values2,\n",
    "        name = names2,\n",
    "        textposition = 'auto',\n",
    "        marker = dict(color = markercolor2)\n",
    "    )\n",
    "        data = [trace1, trace2]\n",
    "    else:\n",
    "        data = [trace1]\n",
    "        \n",
    "    layout = go.Layout(title=title,xaxis=dict(tickangle=-25),barmode=mode)\n",
    "    fig = go.Figure(data = data, layout = layout)\n",
    "    iplot(fig)\n",
    "        "
   ]
  },
  {
   "cell_type": "code",
   "execution_count": 28,
   "metadata": {},
   "outputs": [
    {
     "data": {
      "application/vnd.plotly.v1+json": {
       "data": [
        {
         "marker": {
          "color": "#9ECAE1"
         },
         "name": "Age",
         "orientation": "v",
         "text": [
          31759,
          15249,
          11477,
          3313,
          1638,
          959,
          179
         ],
         "textposition": "auto",
         "type": "bar",
         "x": [
          "25 - 34 years old",
          "18 - 24 years old",
          "35 - 44 years old",
          "45 - 54 years old",
          "Under 18 years old",
          "55 - 64 years old",
          "65 years or older"
         ],
         "y": [
          31759,
          15249,
          11477,
          3313,
          1638,
          959,
          179
         ]
        }
       ],
       "layout": {
        "barmode": "group",
        "title": "Distribution of developers based on Age",
        "xaxis": {
         "tickangle": -25
        }
       }
      },
      "text/html": [
       "<div id=\"9793757a-31fa-4421-8943-f3e7565a8b9d\" style=\"height: 525px; width: 100%;\" class=\"plotly-graph-div\"></div><script type=\"text/javascript\">require([\"plotly\"], function(Plotly) { window.PLOTLYENV=window.PLOTLYENV || {};window.PLOTLYENV.BASE_URL=\"https://plot.ly\";Plotly.newPlot(\"9793757a-31fa-4421-8943-f3e7565a8b9d\", [{\"type\": \"bar\", \"x\": [\"25 - 34 years old\", \"18 - 24 years old\", \"35 - 44 years old\", \"45 - 54 years old\", \"Under 18 years old\", \"55 - 64 years old\", \"65 years or older\"], \"y\": [31759, 15249, 11477, 3313, 1638, 959, 179], \"orientation\": \"v\", \"text\": [31759, 15249, 11477, 3313, 1638, 959, 179], \"name\": \"Age\", \"textposition\": \"auto\", \"marker\": {\"color\": \"#9ECAE1\"}}], {\"title\": \"Distribution of developers based on Age\", \"xaxis\": {\"tickangle\": -25}, \"barmode\": \"group\"}, {\"showLink\": true, \"linkText\": \"Export to plot.ly\"})});</script>"
      ],
      "text/vnd.plotly.v1+html": [
       "<div id=\"9793757a-31fa-4421-8943-f3e7565a8b9d\" style=\"height: 525px; width: 100%;\" class=\"plotly-graph-div\"></div><script type=\"text/javascript\">require([\"plotly\"], function(Plotly) { window.PLOTLYENV=window.PLOTLYENV || {};window.PLOTLYENV.BASE_URL=\"https://plot.ly\";Plotly.newPlot(\"9793757a-31fa-4421-8943-f3e7565a8b9d\", [{\"type\": \"bar\", \"x\": [\"25 - 34 years old\", \"18 - 24 years old\", \"35 - 44 years old\", \"45 - 54 years old\", \"Under 18 years old\", \"55 - 64 years old\", \"65 years or older\"], \"y\": [31759, 15249, 11477, 3313, 1638, 959, 179], \"orientation\": \"v\", \"text\": [31759, 15249, 11477, 3313, 1638, 959, 179], \"name\": \"Age\", \"textposition\": \"auto\", \"marker\": {\"color\": \"#9ECAE1\"}}], {\"title\": \"Distribution of developers based on Age\", \"xaxis\": {\"tickangle\": -25}, \"barmode\": \"group\"}, {\"showLink\": true, \"linkText\": \"Export to plot.ly\"})});</script>"
      ]
     },
     "metadata": {},
     "output_type": "display_data"
    }
   ],
   "source": [
    "age = results[\"Age\"].value_counts()\n",
    "plotlybar(age.index, age.values, 'Age',title = 'Distribution of developers based on Age')"
   ]
  },
  {
   "cell_type": "code",
   "execution_count": 30,
   "metadata": {
    "collapsed": true
   },
   "outputs": [],
   "source": [
    "#LV sns plot\n",
    "def snslvplot(x,y, title):\n",
    "    plt.figure(figsize = (16,8))\n",
    "    sns.lvplot(x = x , y = y , palette = \"cool\" )\n",
    "    plt.xticks(rotation = 75)\n",
    "    plt.title(title)\n",
    "    plt.show()"
   ]
  },
  {
   "cell_type": "code",
   "execution_count": 31,
   "metadata": {},
   "outputs": [
    {
     "data": {
      "image/png": "[encoded data removed]",
      "text/plain": [
       "<matplotlib.figure.Figure at 0x16309bc26a0>"
      ]
     },
     "metadata": {},
     "output_type": "display_data"
    }
   ],
   "source": [
    "snslvplot(results[\"Age\"],np.log(results['ConvertedSalary'] + 1),\"Salary Based on Age\")"
   ]
  },
  {
   "cell_type": "code",
   "execution_count": 32,
   "metadata": {
    "collapsed": true
   },
   "outputs": [],
   "source": [
    "#stripplot sns\n",
    "def snsstripplot(x,y,title):\n",
    "    plt.figure(figsize = (16,8))\n",
    "    sns.stripplot(x = x , y = y , palette = \"cool\" )\n",
    "    plt.xticks(rotation = 75)\n",
    "    plt.title(title)\n",
    "    plt.show()"
   ]
  },
  {
   "cell_type": "code",
   "execution_count": 33,
   "metadata": {
    "collapsed": true
   },
   "outputs": [],
   "source": [
    "#point plot sns\n",
    "def snspointplot(x,y,data, hue, title):\n",
    "    plt.figure(figsize=(16,8))\n",
    "    ax = sns.pointplot(x = x, y = y ,data=data,hue=hue,palette=\"Set2\")\n",
    "    plt.xticks(rotation=90)\n",
    "    plt.title(title)\n",
    "    plt.show()\n",
    "    "
   ]
  },
  {
   "cell_type": "code",
   "execution_count": 38,
   "metadata": {},
   "outputs": [
    {
     "name": "stdout",
     "output_type": "stream",
     "text": [
      "25 - 34 years old     14150\n",
      "18 - 24 years old      6424\n",
      "35 - 44 years old      5508\n",
      "45 - 54 years old      1460\n",
      "Under 18 years old      744\n",
      "55 - 64 years old       377\n",
      "65 years or older        72\n",
      "Name: Age, dtype: int64\n",
      "25 - 34 years old     17609\n",
      "18 - 24 years old      8825\n",
      "35 - 44 years old      5969\n",
      "45 - 54 years old      1853\n",
      "Under 18 years old      894\n",
      "55 - 64 years old       582\n",
      "65 years or older       107\n",
      "Name: Age, dtype: int64\n"
     ]
    },
    {
     "data": {
      "application/vnd.plotly.v1+json": {
       "data": [
        {
         "marker": {
          "color": "#9ECAE1"
         },
         "name": "Contribute to open Source",
         "orientation": "v",
         "text": [
          14150,
          6424,
          5508,
          1460,
          744,
          377,
          72
         ],
         "textposition": "auto",
         "type": "bar",
         "x": [
          "25 - 34 years old",
          "18 - 24 years old",
          "35 - 44 years old",
          "45 - 54 years old",
          "Under 18 years old",
          "55 - 64 years old",
          "65 years or older"
         ],
         "y": [
          14150,
          6424,
          5508,
          1460,
          744,
          377,
          72
         ]
        },
        {
         "marker": {
          "color": "#ff99ff"
         },
         "name": "Not Contribute to open Source",
         "orientation": "v",
         "text": [
          17609,
          8825,
          5969,
          1853,
          894,
          582,
          107
         ],
         "textposition": "auto",
         "type": "bar",
         "x": [
          "25 - 34 years old",
          "18 - 24 years old",
          "35 - 44 years old",
          "45 - 54 years old",
          "Under 18 years old",
          "55 - 64 years old",
          "65 years or older"
         ],
         "y": [
          17609,
          8825,
          5969,
          1853,
          894,
          582,
          107
         ]
        }
       ],
       "layout": {
        "barmode": "group",
        "title": null,
        "xaxis": {
         "tickangle": -25
        }
       }
      },
      "text/html": [
       "<div id=\"f63ef40e-512f-43a4-ad49-c7d4afa6f92e\" style=\"height: 525px; width: 100%;\" class=\"plotly-graph-div\"></div><script type=\"text/javascript\">require([\"plotly\"], function(Plotly) { window.PLOTLYENV=window.PLOTLYENV || {};window.PLOTLYENV.BASE_URL=\"https://plot.ly\";Plotly.newPlot(\"f63ef40e-512f-43a4-ad49-c7d4afa6f92e\", [{\"type\": \"bar\", \"x\": [\"25 - 34 years old\", \"18 - 24 years old\", \"35 - 44 years old\", \"45 - 54 years old\", \"Under 18 years old\", \"55 - 64 years old\", \"65 years or older\"], \"y\": [14150, 6424, 5508, 1460, 744, 377, 72], \"orientation\": \"v\", \"text\": [14150, 6424, 5508, 1460, 744, 377, 72], \"name\": \"Contribute to open Source\", \"textposition\": \"auto\", \"marker\": {\"color\": \"#9ECAE1\"}}, {\"type\": \"bar\", \"x\": [\"25 - 34 years old\", \"18 - 24 years old\", \"35 - 44 years old\", \"45 - 54 years old\", \"Under 18 years old\", \"55 - 64 years old\", \"65 years or older\"], \"y\": [17609, 8825, 5969, 1853, 894, 582, 107], \"orientation\": \"v\", \"text\": [17609, 8825, 5969, 1853, 894, 582, 107], \"name\": \"Not Contribute to open Source\", \"textposition\": \"auto\", \"marker\": {\"color\": \"#ff99ff\"}}], {\"title\": null, \"xaxis\": {\"tickangle\": -25}, \"barmode\": \"group\"}, {\"showLink\": true, \"linkText\": \"Export to plot.ly\"})});</script>"
      ],
      "text/vnd.plotly.v1+html": [
       "<div id=\"f63ef40e-512f-43a4-ad49-c7d4afa6f92e\" style=\"height: 525px; width: 100%;\" class=\"plotly-graph-div\"></div><script type=\"text/javascript\">require([\"plotly\"], function(Plotly) { window.PLOTLYENV=window.PLOTLYENV || {};window.PLOTLYENV.BASE_URL=\"https://plot.ly\";Plotly.newPlot(\"f63ef40e-512f-43a4-ad49-c7d4afa6f92e\", [{\"type\": \"bar\", \"x\": [\"25 - 34 years old\", \"18 - 24 years old\", \"35 - 44 years old\", \"45 - 54 years old\", \"Under 18 years old\", \"55 - 64 years old\", \"65 years or older\"], \"y\": [14150, 6424, 5508, 1460, 744, 377, 72], \"orientation\": \"v\", \"text\": [14150, 6424, 5508, 1460, 744, 377, 72], \"name\": \"Contribute to open Source\", \"textposition\": \"auto\", \"marker\": {\"color\": \"#9ECAE1\"}}, {\"type\": \"bar\", \"x\": [\"25 - 34 years old\", \"18 - 24 years old\", \"35 - 44 years old\", \"45 - 54 years old\", \"Under 18 years old\", \"55 - 64 years old\", \"65 years or older\"], \"y\": [17609, 8825, 5969, 1853, 894, 582, 107], \"orientation\": \"v\", \"text\": [17609, 8825, 5969, 1853, 894, 582, 107], \"name\": \"Not Contribute to open Source\", \"textposition\": \"auto\", \"marker\": {\"color\": \"#ff99ff\"}}], {\"title\": null, \"xaxis\": {\"tickangle\": -25}, \"barmode\": \"group\"}, {\"showLink\": true, \"linkText\": \"Export to plot.ly\"})});</script>"
      ]
     },
     "metadata": {},
     "output_type": "display_data"
    }
   ],
   "source": [
    "oscontribyes = results[results[\"OpenSource\"] == \"Yes\"]\n",
    "oscontribNo = results[results[\"OpenSource\"] == \"No\"]\n",
    "Agewisecontribyes = oscontribyes[\"Age\"].value_counts()\n",
    "print(Agewisecontribyes)\n",
    "Agewisecontribno = oscontribNo[\"Age\"].value_counts()\n",
    "print(Agewisecontribno)\n",
    "plotlybar(Agewisecontribyes.index,Agewisecontribyes.values,'Contribute to open Source',\n",
    "         Agewisecontribno.index,Agewisecontribno.values,'Not Contribute to open Source',\n",
    "         )"
   ]
  },
  {
   "cell_type": "code",
   "execution_count": 41,
   "metadata": {},
   "outputs": [
    {
     "data": {
      "application/vnd.plotly.v1+json": {
       "data": [
        {
         "marker": {
          "color": "#9ECAE9"
         },
         "name": "Contribute to open Source",
         "orientation": "v",
         "text": [
          9162,
          8370,
          5711,
          3835,
          3763,
          3034,
          2556,
          1786,
          1326,
          975,
          538
         ],
         "textposition": "auto",
         "type": "bar",
         "x": [
          "3-5 years",
          "6-8 years",
          "9-11 years",
          "12-14 years",
          "0-2 years",
          "15-17 years",
          "18-20 years",
          "30 or more years",
          "21-23 years",
          "24-26 years",
          "27-29 years"
         ],
         "y": [
          9162,
          8370,
          5711,
          3835,
          3763,
          3034,
          2556,
          1786,
          1326,
          975,
          538
         ]
        },
        {
         "marker": {
          "color": "#ff99ff"
         },
         "name": "Not Contribute to open Source",
         "orientation": "v",
         "text": [
          14151,
          10968,
          6919,
          6458,
          4195,
          3083,
          2516,
          1758,
          1322,
          887,
          522
         ],
         "textposition": "auto",
         "type": "bar",
         "x": [
          "3-5 years",
          "6-8 years",
          "0-2 years",
          "9-11 years",
          "12-14 years",
          "15-17 years",
          "18-20 years",
          "30 or more years",
          "21-23 years",
          "24-26 years",
          "27-29 years"
         ],
         "y": [
          14151,
          10968,
          6919,
          6458,
          4195,
          3083,
          2516,
          1758,
          1322,
          887,
          522
         ]
        }
       ],
       "layout": {
        "barmode": "group",
        "title": "Developers contribution to Open Source based on Years of Coding",
        "xaxis": {
         "tickangle": -25
        }
       }
      },
      "text/html": [
       "<div id=\"18c35302-b667-473d-a016-466410e5825a\" style=\"height: 525px; width: 100%;\" class=\"plotly-graph-div\"></div><script type=\"text/javascript\">require([\"plotly\"], function(Plotly) { window.PLOTLYENV=window.PLOTLYENV || {};window.PLOTLYENV.BASE_URL=\"https://plot.ly\";Plotly.newPlot(\"18c35302-b667-473d-a016-466410e5825a\", [{\"type\": \"bar\", \"x\": [\"3-5 years\", \"6-8 years\", \"9-11 years\", \"12-14 years\", \"0-2 years\", \"15-17 years\", \"18-20 years\", \"30 or more years\", \"21-23 years\", \"24-26 years\", \"27-29 years\"], \"y\": [9162, 8370, 5711, 3835, 3763, 3034, 2556, 1786, 1326, 975, 538], \"orientation\": \"v\", \"text\": [9162, 8370, 5711, 3835, 3763, 3034, 2556, 1786, 1326, 975, 538], \"name\": \"Contribute to open Source\", \"textposition\": \"auto\", \"marker\": {\"color\": \"#9ECAE9\"}}, {\"type\": \"bar\", \"x\": [\"3-5 years\", \"6-8 years\", \"0-2 years\", \"9-11 years\", \"12-14 years\", \"15-17 years\", \"18-20 years\", \"30 or more years\", \"21-23 years\", \"24-26 years\", \"27-29 years\"], \"y\": [14151, 10968, 6919, 6458, 4195, 3083, 2516, 1758, 1322, 887, 522], \"orientation\": \"v\", \"text\": [14151, 10968, 6919, 6458, 4195, 3083, 2516, 1758, 1322, 887, 522], \"name\": \"Not Contribute to open Source\", \"textposition\": \"auto\", \"marker\": {\"color\": \"#ff99ff\"}}], {\"title\": \"Developers contribution to Open Source based on Years of Coding\", \"xaxis\": {\"tickangle\": -25}, \"barmode\": \"group\"}, {\"showLink\": true, \"linkText\": \"Export to plot.ly\"})});</script>"
      ],
      "text/vnd.plotly.v1+html": [
       "<div id=\"18c35302-b667-473d-a016-466410e5825a\" style=\"height: 525px; width: 100%;\" class=\"plotly-graph-div\"></div><script type=\"text/javascript\">require([\"plotly\"], function(Plotly) { window.PLOTLYENV=window.PLOTLYENV || {};window.PLOTLYENV.BASE_URL=\"https://plot.ly\";Plotly.newPlot(\"18c35302-b667-473d-a016-466410e5825a\", [{\"type\": \"bar\", \"x\": [\"3-5 years\", \"6-8 years\", \"9-11 years\", \"12-14 years\", \"0-2 years\", \"15-17 years\", \"18-20 years\", \"30 or more years\", \"21-23 years\", \"24-26 years\", \"27-29 years\"], \"y\": [9162, 8370, 5711, 3835, 3763, 3034, 2556, 1786, 1326, 975, 538], \"orientation\": \"v\", \"text\": [9162, 8370, 5711, 3835, 3763, 3034, 2556, 1786, 1326, 975, 538], \"name\": \"Contribute to open Source\", \"textposition\": \"auto\", \"marker\": {\"color\": \"#9ECAE9\"}}, {\"type\": \"bar\", \"x\": [\"3-5 years\", \"6-8 years\", \"0-2 years\", \"9-11 years\", \"12-14 years\", \"15-17 years\", \"18-20 years\", \"30 or more years\", \"21-23 years\", \"24-26 years\", \"27-29 years\"], \"y\": [14151, 10968, 6919, 6458, 4195, 3083, 2516, 1758, 1322, 887, 522], \"orientation\": \"v\", \"text\": [14151, 10968, 6919, 6458, 4195, 3083, 2516, 1758, 1322, 887, 522], \"name\": \"Not Contribute to open Source\", \"textposition\": \"auto\", \"marker\": {\"color\": \"#ff99ff\"}}], {\"title\": \"Developers contribution to Open Source based on Years of Coding\", \"xaxis\": {\"tickangle\": -25}, \"barmode\": \"group\"}, {\"showLink\": true, \"linkText\": \"Export to plot.ly\"})});</script>"
      ]
     },
     "metadata": {},
     "output_type": "display_data"
    }
   ],
   "source": [
    "yearscodingyes = oscontribyes[\"YearsCoding\"].value_counts()\n",
    "yearscodingno = oscontribNo[\"YearsCoding\"].value_counts()\n",
    "plotlybar(yearscodingyes.index, yearscodingyes.values,'Contribute to open Source',\n",
    "         yearscodingno.index,yearscodingno.values,'Not Contribute to open Source',\n",
    "         '#9ECAE9','#ff99ff', title='Developers contribution to Open Source based on Years of Coding')"
   ]
  },
  {
   "cell_type": "code",
   "execution_count": 48,
   "metadata": {},
   "outputs": [
    {
     "data": {
      "image/png": "[encoded data removed]",
      "text/plain": [
       "<matplotlib.figure.Figure at 0x16309f406a0>"
      ]
     },
     "metadata": {},
     "output_type": "display_data"
    }
   ],
   "source": [
    "snsstripplot(results[\"YearsCoding\"], np.log(results['ConvertedSalary']),\"Salary Based on Years of Coding\")"
   ]
  },
  {
   "cell_type": "code",
   "execution_count": 47,
   "metadata": {},
   "outputs": [
    {
     "data": {
      "text/plain": [
       "10.12667110305036"
      ]
     },
     "execution_count": 47,
     "metadata": {},
     "output_type": "execute_result"
    }
   ],
   "source": [
    "np.log(25000 + 1)"
   ]
  },
  {
   "cell_type": "code",
   "execution_count": 52,
   "metadata": {},
   "outputs": [
    {
     "data": {
      "application/vnd.plotly.v1+json": {
       "data": [
        {
         "hole": 0.6,
         "labels": [
          "No",
          "Yes, full-time",
          "Yes, part-time"
         ],
         "marker": {
          "colors": [
           "#FEBFB3",
           "#E1396C",
           "#ff9933"
          ]
         },
         "pull": 0.05,
         "type": "pie",
         "values": [
          70399,
          18394,
          6108
         ]
        }
       ],
       "layout": {
        "title": "is the respondent students?"
       }
      },
      "text/html": [
       "<div id=\"24cb6d9b-2a0a-47d1-b49f-52f22eb348ef\" style=\"height: 525px; width: 100%;\" class=\"plotly-graph-div\"></div><script type=\"text/javascript\">require([\"plotly\"], function(Plotly) { window.PLOTLYENV=window.PLOTLYENV || {};window.PLOTLYENV.BASE_URL=\"https://plot.ly\";Plotly.newPlot(\"24cb6d9b-2a0a-47d1-b49f-52f22eb348ef\", [{\"type\": \"pie\", \"labels\": [\"No\", \"Yes, full-time\", \"Yes, part-time\"], \"values\": [70399, 18394, 6108], \"hole\": 0.6, \"pull\": 0.05, \"marker\": {\"colors\": [\"#FEBFB3\", \"#E1396C\", \"#ff9933\"]}}], {\"title\": \"is the respondent students?\"}, {\"showLink\": true, \"linkText\": \"Export to plot.ly\"})});</script>"
      ],
      "text/vnd.plotly.v1+html": [
       "<div id=\"24cb6d9b-2a0a-47d1-b49f-52f22eb348ef\" style=\"height: 525px; width: 100%;\" class=\"plotly-graph-div\"></div><script type=\"text/javascript\">require([\"plotly\"], function(Plotly) { window.PLOTLYENV=window.PLOTLYENV || {};window.PLOTLYENV.BASE_URL=\"https://plot.ly\";Plotly.newPlot(\"24cb6d9b-2a0a-47d1-b49f-52f22eb348ef\", [{\"type\": \"pie\", \"labels\": [\"No\", \"Yes, full-time\", \"Yes, part-time\"], \"values\": [70399, 18394, 6108], \"hole\": 0.6, \"pull\": 0.05, \"marker\": {\"colors\": [\"#FEBFB3\", \"#E1396C\", \"#ff9933\"]}}], {\"title\": \"is the respondent students?\"}, {\"showLink\": true, \"linkText\": \"Export to plot.ly\"})});</script>"
      ]
     },
     "metadata": {},
     "output_type": "display_data"
    }
   ],
   "source": [
    "Student = results[\"Student\"].value_counts()\n",
    "colors = ['#FEBFB3', '#E1396C','#ff9933']\n",
    "plotlypie(Student.index, Student.values, 0.6, 0.05,colors, 'is the respondent students?')"
   ]
  },
  {
   "cell_type": "code",
   "execution_count": 54,
   "metadata": {},
   "outputs": [
    {
     "data": {
      "application/vnd.plotly.v1+json": {
       "data": [
        {
         "marker": {
          "color": "#9ECAE1"
         },
         "name": "student contribute to open source",
         "orientation": "v",
         "text": [
          29919,
          8643,
          2751
         ],
         "textposition": "auto",
         "type": "bar",
         "x": [
          "No",
          "Yes, full-time",
          "Yes, part-time"
         ],
         "y": [
          29919,
          8643,
          2751
         ]
        },
        {
         "marker": {
          "color": "#123fgh"
         },
         "name": "No student contrubute to open source",
         "orientation": "v",
         "text": [
          40480,
          9751,
          3357
         ],
         "textposition": "auto",
         "type": "bar",
         "x": [
          "No",
          "Yes, full-time",
          "Yes, part-time"
         ],
         "y": [
          40480,
          9751,
          3357
         ]
        }
       ],
       "layout": {
        "barmode": "group",
        "title": "How much student contribute to Open source",
        "xaxis": {
         "tickangle": -25
        }
       }
      },
      "text/html": [
       "<div id=\"3b5a0ce0-f94d-427e-acd5-bf528e455f67\" style=\"height: 525px; width: 100%;\" class=\"plotly-graph-div\"></div><script type=\"text/javascript\">require([\"plotly\"], function(Plotly) { window.PLOTLYENV=window.PLOTLYENV || {};window.PLOTLYENV.BASE_URL=\"https://plot.ly\";Plotly.newPlot(\"3b5a0ce0-f94d-427e-acd5-bf528e455f67\", [{\"type\": \"bar\", \"x\": [\"No\", \"Yes, full-time\", \"Yes, part-time\"], \"y\": [29919, 8643, 2751], \"orientation\": \"v\", \"text\": [29919, 8643, 2751], \"name\": \"student contribute to open source\", \"textposition\": \"auto\", \"marker\": {\"color\": \"#9ECAE1\"}}, {\"type\": \"bar\", \"x\": [\"No\", \"Yes, full-time\", \"Yes, part-time\"], \"y\": [40480, 9751, 3357], \"orientation\": \"v\", \"text\": [40480, 9751, 3357], \"name\": \"No student contrubute to open source\", \"textposition\": \"auto\", \"marker\": {\"color\": \"#123fgh\"}}], {\"title\": \"How much student contribute to Open source\", \"xaxis\": {\"tickangle\": -25}, \"barmode\": \"group\"}, {\"showLink\": true, \"linkText\": \"Export to plot.ly\"})});</script>"
      ],
      "text/vnd.plotly.v1+html": [
       "<div id=\"3b5a0ce0-f94d-427e-acd5-bf528e455f67\" style=\"height: 525px; width: 100%;\" class=\"plotly-graph-div\"></div><script type=\"text/javascript\">require([\"plotly\"], function(Plotly) { window.PLOTLYENV=window.PLOTLYENV || {};window.PLOTLYENV.BASE_URL=\"https://plot.ly\";Plotly.newPlot(\"3b5a0ce0-f94d-427e-acd5-bf528e455f67\", [{\"type\": \"bar\", \"x\": [\"No\", \"Yes, full-time\", \"Yes, part-time\"], \"y\": [29919, 8643, 2751], \"orientation\": \"v\", \"text\": [29919, 8643, 2751], \"name\": \"student contribute to open source\", \"textposition\": \"auto\", \"marker\": {\"color\": \"#9ECAE1\"}}, {\"type\": \"bar\", \"x\": [\"No\", \"Yes, full-time\", \"Yes, part-time\"], \"y\": [40480, 9751, 3357], \"orientation\": \"v\", \"text\": [40480, 9751, 3357], \"name\": \"No student contrubute to open source\", \"textposition\": \"auto\", \"marker\": {\"color\": \"#123fgh\"}}], {\"title\": \"How much student contribute to Open source\", \"xaxis\": {\"tickangle\": -25}, \"barmode\": \"group\"}, {\"showLink\": true, \"linkText\": \"Export to plot.ly\"})});</script>"
      ]
     },
     "metadata": {},
     "output_type": "display_data"
    }
   ],
   "source": [
    "studentsyes = oscontribyes[\"Student\"].value_counts()\n",
    "studentsno = oscontribNo[\"Student\"].value_counts()\n",
    "plotlybar(studentsyes.index, studentsyes.values, 'student contribute to open source',\n",
    "         studentsno.index, studentsno.values, 'No student contrubute to open source',\n",
    "         '#9ECAE1','#123fgh',title = 'How much student contribute to Open source')"
   ]
  },
  {
   "cell_type": "code",
   "execution_count": 55,
   "metadata": {
    "collapsed": true
   },
   "outputs": [],
   "source": [
    "country_codes = {country.name: country.alpha_3 for country in pycountry.countries}"
   ]
  },
  {
   "cell_type": "code",
   "execution_count": 58,
   "metadata": {},
   "outputs": [],
   "source": [
    "country_codes['Democratic Republic of the Congo'] = country_codes.pop('Congo, The Democratic Republic of the')\n",
    "country_codes['Venezuela, Bolivarian Republic of...'] = country_codes.pop('Venezuela, Bolivarian Republic of')\n",
    "country_codes['Micronesia, Federated States of...'] = country_codes.pop('Micronesia, Federated States of')\n",
    "country_codes['The former Yugoslav Republic of Macedonia'] = country_codes.pop('Macedonia, Republic of')\n",
    "country_codes['United Republic of Tanzania'] = country_codes.pop('Tanzania, United Republic of')\n",
    "country_codes['Iran, Islamic Republic of...'] = country_codes.pop('Iran, Islamic Republic of')\n",
    "country_codes['North Korea'] = country_codes.pop(\"Korea, Democratic People's Republic of\")\n",
    "country_codes['Republic of Moldova'] = country_codes.pop('Moldova, Republic of')\n",
    "country_codes['Bolivia'] = country_codes.pop('Bolivia, Plurinational State of')\n",
    "country_codes['Taiwan'] = country_codes.pop('Taiwan, Province of China')\n",
    "country_codes['South Korea'] = country_codes.pop('Korea, Republic of')\n",
    "country_codes['Libyan Arab Jamahiriya'] = country_codes.pop('Libya')\n",
    "country_codes['Hong Kong (S.A.R.)'] = country_codes.pop('Hong Kong')\n",
    "country_codes['Czech Republic'] = country_codes.pop('Czechia')\n",
    "country_codes['Cape Verde'] = country_codes.pop('Cabo Verde')"
   ]
  },
  {
   "cell_type": "code",
   "execution_count": 59,
   "metadata": {
    "collapsed": true
   },
   "outputs": [],
   "source": [
    "# Handle duplicates for the same country\n",
    "country_codes['Congo, Republic of the...'] = country_codes['Democratic Republic of the Congo']\n",
    "country_codes[\"Democratic People's Republic of Korea\"] = country_codes['North Korea']\n",
    "country_codes['Republic of Korea'] = country_codes['South Korea']"
   ]
  },
  {
   "cell_type": "code",
   "execution_count": 62,
   "metadata": {},
   "outputs": [],
   "source": [
    "results[\"Code\"] = results[\"Country\"].map(country_codes)"
   ]
  },
  {
   "cell_type": "code",
   "execution_count": 64,
   "metadata": {},
   "outputs": [
    {
     "data": {
      "text/plain": [
       "0             Kenya\n",
       "1    United Kingdom\n",
       "2     United States\n",
       "3     United States\n",
       "4      South Africa\n",
       "Name: Country, dtype: object"
      ]
     },
     "execution_count": 64,
     "metadata": {},
     "output_type": "execute_result"
    }
   ],
   "source": [
    "results[\"Code\"].head()\n",
    "results[\"Country\"].head()"
   ]
  },
  {
   "cell_type": "code",
   "execution_count": 70,
   "metadata": {},
   "outputs": [
    {
     "data": {
      "text/html": [
       "<div>\n",
       "<style>\n",
       "    .dataframe thead tr:only-child th {\n",
       "        text-align: right;\n",
       "    }\n",
       "\n",
       "    .dataframe thead th {\n",
       "        text-align: left;\n",
       "    }\n",
       "\n",
       "    .dataframe tbody tr th {\n",
       "        vertical-align: top;\n",
       "    }\n",
       "</style>\n",
       "<table border=\"1\" class=\"dataframe\">\n",
       "  <thead>\n",
       "    <tr style=\"text-align: right;\">\n",
       "      <th></th>\n",
       "      <th>Country</th>\n",
       "      <th>Code</th>\n",
       "      <th>Respondent</th>\n",
       "    </tr>\n",
       "  </thead>\n",
       "  <tbody>\n",
       "    <tr>\n",
       "      <th>0</th>\n",
       "      <td>Afghanistan</td>\n",
       "      <td>AFG</td>\n",
       "      <td>64</td>\n",
       "    </tr>\n",
       "    <tr>\n",
       "      <th>1</th>\n",
       "      <td>Albania</td>\n",
       "      <td>ALB</td>\n",
       "      <td>109</td>\n",
       "    </tr>\n",
       "    <tr>\n",
       "      <th>2</th>\n",
       "      <td>Algeria</td>\n",
       "      <td>DZA</td>\n",
       "      <td>130</td>\n",
       "    </tr>\n",
       "    <tr>\n",
       "      <th>3</th>\n",
       "      <td>Andorra</td>\n",
       "      <td>AND</td>\n",
       "      <td>15</td>\n",
       "    </tr>\n",
       "    <tr>\n",
       "      <th>4</th>\n",
       "      <td>Angola</td>\n",
       "      <td>AGO</td>\n",
       "      <td>11</td>\n",
       "    </tr>\n",
       "  </tbody>\n",
       "</table>\n",
       "</div>"
      ],
      "text/plain": [
       "       Country Code  Respondent\n",
       "0  Afghanistan  AFG          64\n",
       "1      Albania  ALB         109\n",
       "2      Algeria  DZA         130\n",
       "3      Andorra  AND          15\n",
       "4       Angola  AGO          11"
      ]
     },
     "execution_count": 70,
     "metadata": {},
     "output_type": "execute_result"
    }
   ],
   "source": [
    "responentsByCountry = results.groupby([\"Country\", \"Code\"])[\"Respondent\"].count().reset_index()\n",
    "responentsByCountry.head()"
   ]
  },
  {
   "cell_type": "code",
   "execution_count": 78,
   "metadata": {
    "collapsed": true
   },
   "outputs": [],
   "source": [
    "data = [dict(\n",
    "    type = 'choropleth',\n",
    "    locations = responentsByCountry[\"Code\"],\n",
    "    z = responentsByCountry['Respondent'],\n",
    "    text = responentsByCountry['Country'],\n",
    "    colorscale = 'Jet'\n",
    ")]"
   ]
  },
  {
   "cell_type": "code",
   "execution_count": 79,
   "metadata": {},
   "outputs": [],
   "source": [
    "layout = dict(\n",
    "    title = 'Top countries from which developers responded',\n",
    "    geo = dict(\n",
    "        showframe = False,\n",
    "        showcoastlines = False,\n",
    "        showocean = True,\n",
    "        oceancolor = 'rgb(0,255,255)',\n",
    "        projection = dict(\n",
    "            type = 'orthographic',\n",
    "            rotation = dict(\n",
    "                lon = 60,\n",
    "                lat = 60\n",
    "            )\n",
    "        ),\n",
    "         lonaxis = dict(\n",
    "            showgrid = True,\n",
    "            gridcolor = 'rgb(102, 102, 102)'\n",
    "        ),\n",
    "        lataxis = dict(\n",
    "            showgrid = True,\n",
    "            gridcolor = 'rgb(102, 102, 102)'\n",
    "        )\n",
    "    )\n",
    ")"
   ]
  },
  {
   "cell_type": "code",
   "execution_count": 80,
   "metadata": {},
   "outputs": [
    {
     "data": {
      "application/vnd.plotly.v1+json": {
       "data": [
        {
         "colorscale": "Jet",
         "locations": [
          "AFG",
          "ALB",
          "DZA",
          "AND",
          "AGO",
          "ATG",
          "ARG",
          "ARM",
          "AUS",
          "AUT",
          "AZE",
          "BHS",
          "BHR",
          "BGD",
          "BRB",
          "BLR",
          "BEL",
          "BLZ",
          "BEN",
          "BTN",
          "BOL",
          "BIH",
          "BWA",
          "BRA",
          "BRN",
          "BGR",
          "BFA",
          "BDI",
          "KHM",
          "CMR",
          "CAN",
          "CPV",
          "CAF",
          "CHL",
          "CHN",
          "COL",
          "COD",
          "CRI",
          "HRV",
          "CUB",
          "CYP",
          "CZE",
          "CIV",
          "PRK",
          "COD",
          "DNK",
          "DJI",
          "DMA",
          "DOM",
          "ECU",
          "EGY",
          "SLV",
          "ERI",
          "EST",
          "ETH",
          "FJI",
          "FIN",
          "FRA",
          "GAB",
          "GMB",
          "GEO",
          "DEU",
          "GHA",
          "GRC",
          "GRD",
          "GTM",
          "GIN",
          "GNB",
          "GUY",
          "HTI",
          "HND",
          "HKG",
          "HUN",
          "ISL",
          "IND",
          "IDN",
          "IRN",
          "IRQ",
          "IRL",
          "ISR",
          "ITA",
          "JAM",
          "JPN",
          "JOR",
          "KAZ",
          "KEN",
          "KWT",
          "KGZ",
          "LVA",
          "LBN",
          "LSO",
          "LBR",
          "LBY",
          "LIE",
          "LTU",
          "LUX",
          "MDG",
          "MWI",
          "MYS",
          "MDV",
          "MLI",
          "MLT",
          "MHL",
          "MRT",
          "MUS",
          "MEX",
          "FSM",
          "MCO",
          "MNG",
          "MNE",
          "MAR",
          "MOZ",
          "MMR",
          "NAM",
          "NRU",
          "NPL",
          "NLD",
          "NZL",
          "NIC",
          "NER",
          "NGA",
          "PRK",
          "NOR",
          "OMN",
          "PAK",
          "PLW",
          "PAN",
          "PRY",
          "PER",
          "PHL",
          "POL",
          "PRT",
          "QAT",
          "KOR",
          "MDA",
          "ROU",
          "RUS",
          "RWA",
          "LCA",
          "SMR",
          "SAU",
          "SEN",
          "SRB",
          "SLE",
          "SGP",
          "SVK",
          "SVN",
          "SLB",
          "SOM",
          "ZAF",
          "KOR",
          "ESP",
          "LKA",
          "SDN",
          "SUR",
          "SWZ",
          "SWE",
          "CHE",
          "SYR",
          "TWN",
          "TJK",
          "THA",
          "MKD",
          "TLS",
          "TGO",
          "TTO",
          "TUN",
          "TUR",
          "TKM",
          "UGA",
          "UKR",
          "ARE",
          "GBR",
          "TZA",
          "USA",
          "URY",
          "UZB",
          "VEN",
          "VNM",
          "YEM",
          "ZMB",
          "ZWE"
         ],
         "text": [
          "Afghanistan",
          "Albania",
          "Algeria",
          "Andorra",
          "Angola",
          "Antigua and Barbuda",
          "Argentina",
          "Armenia",
          "Australia",
          "Austria",
          "Azerbaijan",
          "Bahamas",
          "Bahrain",
          "Bangladesh",
          "Barbados",
          "Belarus",
          "Belgium",
          "Belize",
          "Benin",
          "Bhutan",
          "Bolivia",
          "Bosnia and Herzegovina",
          "Botswana",
          "Brazil",
          "Brunei Darussalam",
          "Bulgaria",
          "Burkina Faso",
          "Burundi",
          "Cambodia",
          "Cameroon",
          "Canada",
          "Cape Verde",
          "Central African Republic",
          "Chile",
          "China",
          "Colombia",
          "Congo, Republic of the...",
          "Costa Rica",
          "Croatia",
          "Cuba",
          "Cyprus",
          "Czech Republic",
          "Côte d'Ivoire",
          "Democratic People's Republic of Korea",
          "Democratic Republic of the Congo",
          "Denmark",
          "Djibouti",
          "Dominica",
          "Dominican Republic",
          "Ecuador",
          "Egypt",
          "El Salvador",
          "Eritrea",
          "Estonia",
          "Ethiopia",
          "Fiji",
          "Finland",
          "France",
          "Gabon",
          "Gambia",
          "Georgia",
          "Germany",
          "Ghana",
          "Greece",
          "Grenada",
          "Guatemala",
          "Guinea",
          "Guinea-Bissau",
          "Guyana",
          "Haiti",
          "Honduras",
          "Hong Kong (S.A.R.)",
          "Hungary",
          "Iceland",
          "India",
          "Indonesia",
          "Iran, Islamic Republic of...",
          "Iraq",
          "Ireland",
          "Israel",
          "Italy",
          "Jamaica",
          "Japan",
          "Jordan",
          "Kazakhstan",
          "Kenya",
          "Kuwait",
          "Kyrgyzstan",
          "Latvia",
          "Lebanon",
          "Lesotho",
          "Liberia",
          "Libyan Arab Jamahiriya",
          "Liechtenstein",
          "Lithuania",
          "Luxembourg",
          "Madagascar",
          "Malawi",
          "Malaysia",
          "Maldives",
          "Mali",
          "Malta",
          "Marshall Islands",
          "Mauritania",
          "Mauritius",
          "Mexico",
          "Micronesia, Federated States of...",
          "Monaco",
          "Mongolia",
          "Montenegro",
          "Morocco",
          "Mozambique",
          "Myanmar",
          "Namibia",
          "Nauru",
          "Nepal",
          "Netherlands",
          "New Zealand",
          "Nicaragua",
          "Niger",
          "Nigeria",
          "North Korea",
          "Norway",
          "Oman",
          "Pakistan",
          "Palau",
          "Panama",
          "Paraguay",
          "Peru",
          "Philippines",
          "Poland",
          "Portugal",
          "Qatar",
          "Republic of Korea",
          "Republic of Moldova",
          "Romania",
          "Russian Federation",
          "Rwanda",
          "Saint Lucia",
          "San Marino",
          "Saudi Arabia",
          "Senegal",
          "Serbia",
          "Sierra Leone",
          "Singapore",
          "Slovakia",
          "Slovenia",
          "Solomon Islands",
          "Somalia",
          "South Africa",
          "South Korea",
          "Spain",
          "Sri Lanka",
          "Sudan",
          "Suriname",
          "Swaziland",
          "Sweden",
          "Switzerland",
          "Syrian Arab Republic",
          "Taiwan",
          "Tajikistan",
          "Thailand",
          "The former Yugoslav Republic of Macedonia",
          "Timor-Leste",
          "Togo",
          "Trinidad and Tobago",
          "Tunisia",
          "Turkey",
          "Turkmenistan",
          "Uganda",
          "Ukraine",
          "United Arab Emirates",
          "United Kingdom",
          "United Republic of Tanzania",
          "United States",
          "Uruguay",
          "Uzbekistan",
          "Venezuela, Bolivarian Republic of...",
          "Viet Nam",
          "Yemen",
          "Zambia",
          "Zimbabwe"
         ],
         "type": "choropleth",
         "z": [
          64,
          109,
          130,
          15,
          11,
          9,
          611,
          117,
          2018,
          788,
          78,
          6,
          16,
          697,
          4,
          339,
          743,
          1,
          10,
          6,
          44,
          125,
          4,
          2505,
          1,
          425,
          5,
          1,
          60,
          34,
          3393,
          3,
          2,
          238,
          1037,
          339,
          6,
          98,
          241,
          65,
          49,
          784,
          7,
          2,
          7,
          653,
          1,
          2,
          115,
          65,
          419,
          46,
          1,
          189,
          60,
          8,
          521,
          2572,
          5,
          5,
          75,
          6459,
          76,
          516,
          1,
          50,
          3,
          1,
          2,
          8,
          25,
          219,
          470,
          45,
          13721,
          630,
          921,
          42,
          554,
          1003,
          1535,
          20,
          361,
          83,
          107,
          194,
          23,
          22,
          145,
          107,
          2,
          3,
          14,
          5,
          257,
          59,
          19,
          9,
          363,
          10,
          1,
          66,
          2,
          3,
          35,
          736,
          2,
          4,
          21,
          15,
          213,
          21,
          55,
          6,
          1,
          295,
          1841,
          557,
          31,
          2,
          399,
          4,
          565,
          20,
          1050,
          2,
          32,
          49,
          128,
          520,
          2122,
          528,
          23,
          62,
          76,
          793,
          2869,
          18,
          1,
          1,
          130,
          13,
          358,
          1,
          376,
          238,
          238,
          1,
          10,
          637,
          169,
          1769,
          454,
          25,
          2,
          3,
          1164,
          1010,
          56,
          207,
          4,
          213,
          54,
          1,
          5,
          20,
          163,
          1004,
          6,
          67,
          1279,
          193,
          6221,
          49,
          20309,
          102,
          56,
          123,
          331,
          13,
          9,
          39
         ]
        }
       ],
       "layout": {
        "geo": {
         "lataxis": {
          "gridcolor": "rgb(102, 102, 102)",
          "showgrid": true
         },
         "lonaxis": {
          "gridcolor": "rgb(102, 102, 102)",
          "showgrid": true
         },
         "oceancolor": "rgb(0,255,255)",
         "projection": {
          "rotation": {
           "lat": 60,
           "lon": 60
          },
          "type": "orthographic"
         },
         "showcoastlines": false,
         "showframe": false,
         "showocean": true
        },
        "title": "Top countries from which developers responded"
       }
      },
      "text/html": [
       "<div id=\"848cc92e-ad01-403a-868a-88590eb4224e\" style=\"height: 525px; width: 100%;\" class=\"plotly-graph-div\"></div><script type=\"text/javascript\">require([\"plotly\"], function(Plotly) { window.PLOTLYENV=window.PLOTLYENV || {};window.PLOTLYENV.BASE_URL=\"https://plot.ly\";Plotly.newPlot(\"848cc92e-ad01-403a-868a-88590eb4224e\", [{\"type\": \"choropleth\", \"locations\": [\"AFG\", \"ALB\", \"DZA\", \"AND\", \"AGO\", \"ATG\", \"ARG\", \"ARM\", \"AUS\", \"AUT\", \"AZE\", \"BHS\", \"BHR\", \"BGD\", \"BRB\", \"BLR\", \"BEL\", \"BLZ\", \"BEN\", \"BTN\", \"BOL\", \"BIH\", \"BWA\", \"BRA\", \"BRN\", \"BGR\", \"BFA\", \"BDI\", \"KHM\", \"CMR\", \"CAN\", \"CPV\", \"CAF\", \"CHL\", \"CHN\", \"COL\", \"COD\", \"CRI\", \"HRV\", \"CUB\", \"CYP\", \"CZE\", \"CIV\", \"PRK\", \"COD\", \"DNK\", \"DJI\", \"DMA\", \"DOM\", \"ECU\", \"EGY\", \"SLV\", \"ERI\", \"EST\", \"ETH\", \"FJI\", \"FIN\", \"FRA\", \"GAB\", \"GMB\", \"GEO\", \"DEU\", \"GHA\", \"GRC\", \"GRD\", \"GTM\", \"GIN\", \"GNB\", \"GUY\", \"HTI\", \"HND\", \"HKG\", \"HUN\", \"ISL\", \"IND\", \"IDN\", \"IRN\", \"IRQ\", \"IRL\", \"ISR\", \"ITA\", \"JAM\", \"JPN\", \"JOR\", \"KAZ\", \"KEN\", \"KWT\", \"KGZ\", \"LVA\", \"LBN\", \"LSO\", \"LBR\", \"LBY\", \"LIE\", \"LTU\", \"LUX\", \"MDG\", \"MWI\", \"MYS\", \"MDV\", \"MLI\", \"MLT\", \"MHL\", \"MRT\", \"MUS\", \"MEX\", \"FSM\", \"MCO\", \"MNG\", \"MNE\", \"MAR\", \"MOZ\", \"MMR\", \"NAM\", \"NRU\", \"NPL\", \"NLD\", \"NZL\", \"NIC\", \"NER\", \"NGA\", \"PRK\", \"NOR\", \"OMN\", \"PAK\", \"PLW\", \"PAN\", \"PRY\", \"PER\", \"PHL\", \"POL\", \"PRT\", \"QAT\", \"KOR\", \"MDA\", \"ROU\", \"RUS\", \"RWA\", \"LCA\", \"SMR\", \"SAU\", \"SEN\", \"SRB\", \"SLE\", \"SGP\", \"SVK\", \"SVN\", \"SLB\", \"SOM\", \"ZAF\", \"KOR\", \"ESP\", \"LKA\", \"SDN\", \"SUR\", \"SWZ\", \"SWE\", \"CHE\", \"SYR\", \"TWN\", \"TJK\", \"THA\", \"MKD\", \"TLS\", \"TGO\", \"TTO\", \"TUN\", \"TUR\", \"TKM\", \"UGA\", \"UKR\", \"ARE\", \"GBR\", \"TZA\", \"USA\", \"URY\", \"UZB\", \"VEN\", \"VNM\", \"YEM\", \"ZMB\", \"ZWE\"], \"z\": [64, 109, 130, 15, 11, 9, 611, 117, 2018, 788, 78, 6, 16, 697, 4, 339, 743, 1, 10, 6, 44, 125, 4, 2505, 1, 425, 5, 1, 60, 34, 3393, 3, 2, 238, 1037, 339, 6, 98, 241, 65, 49, 784, 7, 2, 7, 653, 1, 2, 115, 65, 419, 46, 1, 189, 60, 8, 521, 2572, 5, 5, 75, 6459, 76, 516, 1, 50, 3, 1, 2, 8, 25, 219, 470, 45, 13721, 630, 921, 42, 554, 1003, 1535, 20, 361, 83, 107, 194, 23, 22, 145, 107, 2, 3, 14, 5, 257, 59, 19, 9, 363, 10, 1, 66, 2, 3, 35, 736, 2, 4, 21, 15, 213, 21, 55, 6, 1, 295, 1841, 557, 31, 2, 399, 4, 565, 20, 1050, 2, 32, 49, 128, 520, 2122, 528, 23, 62, 76, 793, 2869, 18, 1, 1, 130, 13, 358, 1, 376, 238, 238, 1, 10, 637, 169, 1769, 454, 25, 2, 3, 1164, 1010, 56, 207, 4, 213, 54, 1, 5, 20, 163, 1004, 6, 67, 1279, 193, 6221, 49, 20309, 102, 56, 123, 331, 13, 9, 39], \"text\": [\"Afghanistan\", \"Albania\", \"Algeria\", \"Andorra\", \"Angola\", \"Antigua and Barbuda\", \"Argentina\", \"Armenia\", \"Australia\", \"Austria\", \"Azerbaijan\", \"Bahamas\", \"Bahrain\", \"Bangladesh\", \"Barbados\", \"Belarus\", \"Belgium\", \"Belize\", \"Benin\", \"Bhutan\", \"Bolivia\", \"Bosnia and Herzegovina\", \"Botswana\", \"Brazil\", \"Brunei Darussalam\", \"Bulgaria\", \"Burkina Faso\", \"Burundi\", \"Cambodia\", \"Cameroon\", \"Canada\", \"Cape Verde\", \"Central African Republic\", \"Chile\", \"China\", \"Colombia\", \"Congo, Republic of the...\", \"Costa Rica\", \"Croatia\", \"Cuba\", \"Cyprus\", \"Czech Republic\", \"C\\u00f4te d'Ivoire\", \"Democratic People's Republic of Korea\", \"Democratic Republic of the Congo\", \"Denmark\", \"Djibouti\", \"Dominica\", \"Dominican Republic\", \"Ecuador\", \"Egypt\", \"El Salvador\", \"Eritrea\", \"Estonia\", \"Ethiopia\", \"Fiji\", \"Finland\", \"France\", \"Gabon\", \"Gambia\", \"Georgia\", \"Germany\", \"Ghana\", \"Greece\", \"Grenada\", \"Guatemala\", \"Guinea\", \"Guinea-Bissau\", \"Guyana\", \"Haiti\", \"Honduras\", \"Hong Kong (S.A.R.)\", \"Hungary\", \"Iceland\", \"India\", \"Indonesia\", \"Iran, Islamic Republic of...\", \"Iraq\", \"Ireland\", \"Israel\", \"Italy\", \"Jamaica\", \"Japan\", \"Jordan\", \"Kazakhstan\", \"Kenya\", \"Kuwait\", \"Kyrgyzstan\", \"Latvia\", \"Lebanon\", \"Lesotho\", \"Liberia\", \"Libyan Arab Jamahiriya\", \"Liechtenstein\", \"Lithuania\", \"Luxembourg\", \"Madagascar\", \"Malawi\", \"Malaysia\", \"Maldives\", \"Mali\", \"Malta\", \"Marshall Islands\", \"Mauritania\", \"Mauritius\", \"Mexico\", \"Micronesia, Federated States of...\", \"Monaco\", \"Mongolia\", \"Montenegro\", \"Morocco\", \"Mozambique\", \"Myanmar\", \"Namibia\", \"Nauru\", \"Nepal\", \"Netherlands\", \"New Zealand\", \"Nicaragua\", \"Niger\", \"Nigeria\", \"North Korea\", \"Norway\", \"Oman\", \"Pakistan\", \"Palau\", \"Panama\", \"Paraguay\", \"Peru\", \"Philippines\", \"Poland\", \"Portugal\", \"Qatar\", \"Republic of Korea\", \"Republic of Moldova\", \"Romania\", \"Russian Federation\", \"Rwanda\", \"Saint Lucia\", \"San Marino\", \"Saudi Arabia\", \"Senegal\", \"Serbia\", \"Sierra Leone\", \"Singapore\", \"Slovakia\", \"Slovenia\", \"Solomon Islands\", \"Somalia\", \"South Africa\", \"South Korea\", \"Spain\", \"Sri Lanka\", \"Sudan\", \"Suriname\", \"Swaziland\", \"Sweden\", \"Switzerland\", \"Syrian Arab Republic\", \"Taiwan\", \"Tajikistan\", \"Thailand\", \"The former Yugoslav Republic of Macedonia\", \"Timor-Leste\", \"Togo\", \"Trinidad and Tobago\", \"Tunisia\", \"Turkey\", \"Turkmenistan\", \"Uganda\", \"Ukraine\", \"United Arab Emirates\", \"United Kingdom\", \"United Republic of Tanzania\", \"United States\", \"Uruguay\", \"Uzbekistan\", \"Venezuela, Bolivarian Republic of...\", \"Viet Nam\", \"Yemen\", \"Zambia\", \"Zimbabwe\"], \"colorscale\": \"Jet\"}], {\"title\": \"Top countries from which developers responded\", \"geo\": {\"showframe\": false, \"showcoastlines\": false, \"showocean\": true, \"oceancolor\": \"rgb(0,255,255)\", \"projection\": {\"type\": \"orthographic\", \"rotation\": {\"lon\": 60, \"lat\": 60}}, \"lonaxis\": {\"showgrid\": true, \"gridcolor\": \"rgb(102, 102, 102)\"}, \"lataxis\": {\"showgrid\": true, \"gridcolor\": \"rgb(102, 102, 102)\"}}}, {\"showLink\": true, \"linkText\": \"Export to plot.ly\"})});</script>"
      ],
      "text/vnd.plotly.v1+html": [
       "<div id=\"848cc92e-ad01-403a-868a-88590eb4224e\" style=\"height: 525px; width: 100%;\" class=\"plotly-graph-div\"></div><script type=\"text/javascript\">require([\"plotly\"], function(Plotly) { window.PLOTLYENV=window.PLOTLYENV || {};window.PLOTLYENV.BASE_URL=\"https://plot.ly\";Plotly.newPlot(\"848cc92e-ad01-403a-868a-88590eb4224e\", [{\"type\": \"choropleth\", \"locations\": [\"AFG\", \"ALB\", \"DZA\", \"AND\", \"AGO\", \"ATG\", \"ARG\", \"ARM\", \"AUS\", \"AUT\", \"AZE\", \"BHS\", \"BHR\", \"BGD\", \"BRB\", \"BLR\", \"BEL\", \"BLZ\", \"BEN\", \"BTN\", \"BOL\", \"BIH\", \"BWA\", \"BRA\", \"BRN\", \"BGR\", \"BFA\", \"BDI\", \"KHM\", \"CMR\", \"CAN\", \"CPV\", \"CAF\", \"CHL\", \"CHN\", \"COL\", \"COD\", \"CRI\", \"HRV\", \"CUB\", \"CYP\", \"CZE\", \"CIV\", \"PRK\", \"COD\", \"DNK\", \"DJI\", \"DMA\", \"DOM\", \"ECU\", \"EGY\", \"SLV\", \"ERI\", \"EST\", \"ETH\", \"FJI\", \"FIN\", \"FRA\", \"GAB\", \"GMB\", \"GEO\", \"DEU\", \"GHA\", \"GRC\", \"GRD\", \"GTM\", \"GIN\", \"GNB\", \"GUY\", \"HTI\", \"HND\", \"HKG\", \"HUN\", \"ISL\", \"IND\", \"IDN\", \"IRN\", \"IRQ\", \"IRL\", \"ISR\", \"ITA\", \"JAM\", \"JPN\", \"JOR\", \"KAZ\", \"KEN\", \"KWT\", \"KGZ\", \"LVA\", \"LBN\", \"LSO\", \"LBR\", \"LBY\", \"LIE\", \"LTU\", \"LUX\", \"MDG\", \"MWI\", \"MYS\", \"MDV\", \"MLI\", \"MLT\", \"MHL\", \"MRT\", \"MUS\", \"MEX\", \"FSM\", \"MCO\", \"MNG\", \"MNE\", \"MAR\", \"MOZ\", \"MMR\", \"NAM\", \"NRU\", \"NPL\", \"NLD\", \"NZL\", \"NIC\", \"NER\", \"NGA\", \"PRK\", \"NOR\", \"OMN\", \"PAK\", \"PLW\", \"PAN\", \"PRY\", \"PER\", \"PHL\", \"POL\", \"PRT\", \"QAT\", \"KOR\", \"MDA\", \"ROU\", \"RUS\", \"RWA\", \"LCA\", \"SMR\", \"SAU\", \"SEN\", \"SRB\", \"SLE\", \"SGP\", \"SVK\", \"SVN\", \"SLB\", \"SOM\", \"ZAF\", \"KOR\", \"ESP\", \"LKA\", \"SDN\", \"SUR\", \"SWZ\", \"SWE\", \"CHE\", \"SYR\", \"TWN\", \"TJK\", \"THA\", \"MKD\", \"TLS\", \"TGO\", \"TTO\", \"TUN\", \"TUR\", \"TKM\", \"UGA\", \"UKR\", \"ARE\", \"GBR\", \"TZA\", \"USA\", \"URY\", \"UZB\", \"VEN\", \"VNM\", \"YEM\", \"ZMB\", \"ZWE\"], \"z\": [64, 109, 130, 15, 11, 9, 611, 117, 2018, 788, 78, 6, 16, 697, 4, 339, 743, 1, 10, 6, 44, 125, 4, 2505, 1, 425, 5, 1, 60, 34, 3393, 3, 2, 238, 1037, 339, 6, 98, 241, 65, 49, 784, 7, 2, 7, 653, 1, 2, 115, 65, 419, 46, 1, 189, 60, 8, 521, 2572, 5, 5, 75, 6459, 76, 516, 1, 50, 3, 1, 2, 8, 25, 219, 470, 45, 13721, 630, 921, 42, 554, 1003, 1535, 20, 361, 83, 107, 194, 23, 22, 145, 107, 2, 3, 14, 5, 257, 59, 19, 9, 363, 10, 1, 66, 2, 3, 35, 736, 2, 4, 21, 15, 213, 21, 55, 6, 1, 295, 1841, 557, 31, 2, 399, 4, 565, 20, 1050, 2, 32, 49, 128, 520, 2122, 528, 23, 62, 76, 793, 2869, 18, 1, 1, 130, 13, 358, 1, 376, 238, 238, 1, 10, 637, 169, 1769, 454, 25, 2, 3, 1164, 1010, 56, 207, 4, 213, 54, 1, 5, 20, 163, 1004, 6, 67, 1279, 193, 6221, 49, 20309, 102, 56, 123, 331, 13, 9, 39], \"text\": [\"Afghanistan\", \"Albania\", \"Algeria\", \"Andorra\", \"Angola\", \"Antigua and Barbuda\", \"Argentina\", \"Armenia\", \"Australia\", \"Austria\", \"Azerbaijan\", \"Bahamas\", \"Bahrain\", \"Bangladesh\", \"Barbados\", \"Belarus\", \"Belgium\", \"Belize\", \"Benin\", \"Bhutan\", \"Bolivia\", \"Bosnia and Herzegovina\", \"Botswana\", \"Brazil\", \"Brunei Darussalam\", \"Bulgaria\", \"Burkina Faso\", \"Burundi\", \"Cambodia\", \"Cameroon\", \"Canada\", \"Cape Verde\", \"Central African Republic\", \"Chile\", \"China\", \"Colombia\", \"Congo, Republic of the...\", \"Costa Rica\", \"Croatia\", \"Cuba\", \"Cyprus\", \"Czech Republic\", \"C\\u00f4te d'Ivoire\", \"Democratic People's Republic of Korea\", \"Democratic Republic of the Congo\", \"Denmark\", \"Djibouti\", \"Dominica\", \"Dominican Republic\", \"Ecuador\", \"Egypt\", \"El Salvador\", \"Eritrea\", \"Estonia\", \"Ethiopia\", \"Fiji\", \"Finland\", \"France\", \"Gabon\", \"Gambia\", \"Georgia\", \"Germany\", \"Ghana\", \"Greece\", \"Grenada\", \"Guatemala\", \"Guinea\", \"Guinea-Bissau\", \"Guyana\", \"Haiti\", \"Honduras\", \"Hong Kong (S.A.R.)\", \"Hungary\", \"Iceland\", \"India\", \"Indonesia\", \"Iran, Islamic Republic of...\", \"Iraq\", \"Ireland\", \"Israel\", \"Italy\", \"Jamaica\", \"Japan\", \"Jordan\", \"Kazakhstan\", \"Kenya\", \"Kuwait\", \"Kyrgyzstan\", \"Latvia\", \"Lebanon\", \"Lesotho\", \"Liberia\", \"Libyan Arab Jamahiriya\", \"Liechtenstein\", \"Lithuania\", \"Luxembourg\", \"Madagascar\", \"Malawi\", \"Malaysia\", \"Maldives\", \"Mali\", \"Malta\", \"Marshall Islands\", \"Mauritania\", \"Mauritius\", \"Mexico\", \"Micronesia, Federated States of...\", \"Monaco\", \"Mongolia\", \"Montenegro\", \"Morocco\", \"Mozambique\", \"Myanmar\", \"Namibia\", \"Nauru\", \"Nepal\", \"Netherlands\", \"New Zealand\", \"Nicaragua\", \"Niger\", \"Nigeria\", \"North Korea\", \"Norway\", \"Oman\", \"Pakistan\", \"Palau\", \"Panama\", \"Paraguay\", \"Peru\", \"Philippines\", \"Poland\", \"Portugal\", \"Qatar\", \"Republic of Korea\", \"Republic of Moldova\", \"Romania\", \"Russian Federation\", \"Rwanda\", \"Saint Lucia\", \"San Marino\", \"Saudi Arabia\", \"Senegal\", \"Serbia\", \"Sierra Leone\", \"Singapore\", \"Slovakia\", \"Slovenia\", \"Solomon Islands\", \"Somalia\", \"South Africa\", \"South Korea\", \"Spain\", \"Sri Lanka\", \"Sudan\", \"Suriname\", \"Swaziland\", \"Sweden\", \"Switzerland\", \"Syrian Arab Republic\", \"Taiwan\", \"Tajikistan\", \"Thailand\", \"The former Yugoslav Republic of Macedonia\", \"Timor-Leste\", \"Togo\", \"Trinidad and Tobago\", \"Tunisia\", \"Turkey\", \"Turkmenistan\", \"Uganda\", \"Ukraine\", \"United Arab Emirates\", \"United Kingdom\", \"United Republic of Tanzania\", \"United States\", \"Uruguay\", \"Uzbekistan\", \"Venezuela, Bolivarian Republic of...\", \"Viet Nam\", \"Yemen\", \"Zambia\", \"Zimbabwe\"], \"colorscale\": \"Jet\"}], {\"title\": \"Top countries from which developers responded\", \"geo\": {\"showframe\": false, \"showcoastlines\": false, \"showocean\": true, \"oceancolor\": \"rgb(0,255,255)\", \"projection\": {\"type\": \"orthographic\", \"rotation\": {\"lon\": 60, \"lat\": 60}}, \"lonaxis\": {\"showgrid\": true, \"gridcolor\": \"rgb(102, 102, 102)\"}, \"lataxis\": {\"showgrid\": true, \"gridcolor\": \"rgb(102, 102, 102)\"}}}, {\"showLink\": true, \"linkText\": \"Export to plot.ly\"})});</script>"
      ]
     },
     "metadata": {},
     "output_type": "display_data"
    }
   ],
   "source": [
    "layout = go.Layout(layout)\n",
    "fig = go.Figure(data=data, layout=layout)\n",
    "iplot(fig)"
   ]
  },
  {
   "cell_type": "code",
   "execution_count": 81,
   "metadata": {
    "collapsed": true
   },
   "outputs": [],
   "source": [
    "oscontrib = oscontribyes[\"Country\"].value_counts()[:20]"
   ]
  },
  {
   "cell_type": "code",
   "execution_count": 83,
   "metadata": {},
   "outputs": [
    {
     "data": {
      "application/vnd.plotly.v1+json": {
       "data": [
        {
         "marker": {
          "color": "#9ECAE1"
         },
         "name": null,
         "orientation": "v",
         "text": [
          8847,
          6905,
          2924,
          2470,
          1334,
          1108,
          1099,
          1024,
          910,
          863,
          787,
          689,
          637,
          560,
          512,
          505,
          500,
          485,
          462,
          446
         ],
         "textposition": "auto",
         "type": "bar",
         "x": [
          "United States",
          "India",
          "Germany",
          "United Kingdom",
          "Canada",
          "Russian Federation",
          "France",
          "Brazil",
          "Australia",
          "Netherlands",
          "Poland",
          "Spain",
          "Italy",
          "Pakistan",
          "China",
          "Turkey",
          "Iran, Islamic Republic of...",
          "Sweden",
          "Switzerland",
          "Ukraine"
         ],
         "y": [
          8847,
          6905,
          2924,
          2470,
          1334,
          1108,
          1099,
          1024,
          910,
          863,
          787,
          689,
          637,
          560,
          512,
          505,
          500,
          485,
          462,
          446
         ]
        }
       ],
       "layout": {
        "barmode": "group",
        "title": "Top 20 countries which contribute more to open source",
        "xaxis": {
         "tickangle": -25
        }
       }
      },
      "text/html": [
       "<div id=\"b5c7daac-50c2-4871-a07d-80700832d69a\" style=\"height: 525px; width: 100%;\" class=\"plotly-graph-div\"></div><script type=\"text/javascript\">require([\"plotly\"], function(Plotly) { window.PLOTLYENV=window.PLOTLYENV || {};window.PLOTLYENV.BASE_URL=\"https://plot.ly\";Plotly.newPlot(\"b5c7daac-50c2-4871-a07d-80700832d69a\", [{\"type\": \"bar\", \"x\": [\"United States\", \"India\", \"Germany\", \"United Kingdom\", \"Canada\", \"Russian Federation\", \"France\", \"Brazil\", \"Australia\", \"Netherlands\", \"Poland\", \"Spain\", \"Italy\", \"Pakistan\", \"China\", \"Turkey\", \"Iran, Islamic Republic of...\", \"Sweden\", \"Switzerland\", \"Ukraine\"], \"y\": [8847, 6905, 2924, 2470, 1334, 1108, 1099, 1024, 910, 863, 787, 689, 637, 560, 512, 505, 500, 485, 462, 446], \"orientation\": \"v\", \"text\": [8847, 6905, 2924, 2470, 1334, 1108, 1099, 1024, 910, 863, 787, 689, 637, 560, 512, 505, 500, 485, 462, 446], \"name\": null, \"textposition\": \"auto\", \"marker\": {\"color\": \"#9ECAE1\"}}], {\"title\": \"Top 20 countries which contribute more to open source\", \"xaxis\": {\"tickangle\": -25}, \"barmode\": \"group\"}, {\"showLink\": true, \"linkText\": \"Export to plot.ly\"})});</script>"
      ],
      "text/vnd.plotly.v1+html": [
       "<div id=\"b5c7daac-50c2-4871-a07d-80700832d69a\" style=\"height: 525px; width: 100%;\" class=\"plotly-graph-div\"></div><script type=\"text/javascript\">require([\"plotly\"], function(Plotly) { window.PLOTLYENV=window.PLOTLYENV || {};window.PLOTLYENV.BASE_URL=\"https://plot.ly\";Plotly.newPlot(\"b5c7daac-50c2-4871-a07d-80700832d69a\", [{\"type\": \"bar\", \"x\": [\"United States\", \"India\", \"Germany\", \"United Kingdom\", \"Canada\", \"Russian Federation\", \"France\", \"Brazil\", \"Australia\", \"Netherlands\", \"Poland\", \"Spain\", \"Italy\", \"Pakistan\", \"China\", \"Turkey\", \"Iran, Islamic Republic of...\", \"Sweden\", \"Switzerland\", \"Ukraine\"], \"y\": [8847, 6905, 2924, 2470, 1334, 1108, 1099, 1024, 910, 863, 787, 689, 637, 560, 512, 505, 500, 485, 462, 446], \"orientation\": \"v\", \"text\": [8847, 6905, 2924, 2470, 1334, 1108, 1099, 1024, 910, 863, 787, 689, 637, 560, 512, 505, 500, 485, 462, 446], \"name\": null, \"textposition\": \"auto\", \"marker\": {\"color\": \"#9ECAE1\"}}], {\"title\": \"Top 20 countries which contribute more to open source\", \"xaxis\": {\"tickangle\": -25}, \"barmode\": \"group\"}, {\"showLink\": true, \"linkText\": \"Export to plot.ly\"})});</script>"
      ]
     },
     "metadata": {},
     "output_type": "display_data"
    }
   ],
   "source": [
    "plotlybar(oscontrib.index[:20], oscontrib.values[:20], title =  'Top 20 countries which contribute more to open source')\n"
   ]
  },
  {
   "cell_type": "code",
   "execution_count": 84,
   "metadata": {},
   "outputs": [
    {
     "data": {
      "application/vnd.plotly.v1+json": {
       "data": [
        {
         "marker": {
          "color": "#9ECAE1"
         },
         "name": "Male",
         "orientation": "v",
         "text": [
          13914,
          6213,
          4205,
          4260,
          2201,
          1632,
          1629,
          1513,
          1389,
          1212,
          1310,
          1080,
          1017,
          514,
          368,
          529,
          454,
          814,
          672,
          656
         ],
         "textposition": "auto",
         "type": "bar",
         "x": [
          "United States",
          "India",
          "Germany",
          "United Kingdom",
          "Canada",
          "Russian Federation",
          "France",
          "Brazil",
          "Australia",
          "Netherlands",
          "Poland",
          "Spain",
          "Italy",
          "Pakistan",
          "China",
          "Turkey",
          "Iran, Islamic Republic of...",
          "Sweden",
          "Switzerland",
          "Ukraine"
         ],
         "y": [
          13914,
          6213,
          4205,
          4260,
          2201,
          1632,
          1629,
          1513,
          1389,
          1212,
          1310,
          1080,
          1017,
          514,
          368,
          529,
          454,
          814,
          672,
          656
         ]
        },
        {
         "marker": {
          "color": "#ff99ff"
         },
         "name": "Female",
         "orientation": "v",
         "text": [
          1288,
          440,
          193,
          256,
          208,
          95,
          83,
          58,
          85,
          66,
          73,
          58,
          24,
          35,
          28,
          29,
          27,
          32,
          20,
          43
         ],
         "textposition": "auto",
         "type": "bar",
         "x": [
          "United States",
          "India",
          "Germany",
          "United Kingdom",
          "Canada",
          "Russian Federation",
          "France",
          "Brazil",
          "Australia",
          "Netherlands",
          "Poland",
          "Spain",
          "Italy",
          "Pakistan",
          "China",
          "Turkey",
          "Iran, Islamic Republic of...",
          "Sweden",
          "Switzerland",
          "Ukraine"
         ],
         "y": [
          1288,
          440,
          193,
          256,
          208,
          95,
          83,
          58,
          85,
          66,
          73,
          58,
          24,
          35,
          28,
          29,
          27,
          32,
          20,
          43
         ]
        }
       ],
       "layout": {
        "barmode": "group",
        "title": "Gender base contribute on Open Source",
        "xaxis": {
         "tickangle": -25
        }
       }
      },
      "text/html": [
       "<div id=\"ee2b2c5d-01e0-4ea6-b943-319a007e204d\" style=\"height: 525px; width: 100%;\" class=\"plotly-graph-div\"></div><script type=\"text/javascript\">require([\"plotly\"], function(Plotly) { window.PLOTLYENV=window.PLOTLYENV || {};window.PLOTLYENV.BASE_URL=\"https://plot.ly\";Plotly.newPlot(\"ee2b2c5d-01e0-4ea6-b943-319a007e204d\", [{\"type\": \"bar\", \"x\": [\"United States\", \"India\", \"Germany\", \"United Kingdom\", \"Canada\", \"Russian Federation\", \"France\", \"Brazil\", \"Australia\", \"Netherlands\", \"Poland\", \"Spain\", \"Italy\", \"Pakistan\", \"China\", \"Turkey\", \"Iran, Islamic Republic of...\", \"Sweden\", \"Switzerland\", \"Ukraine\"], \"y\": [13914, 6213, 4205, 4260, 2201, 1632, 1629, 1513, 1389, 1212, 1310, 1080, 1017, 514, 368, 529, 454, 814, 672, 656], \"orientation\": \"v\", \"text\": [13914, 6213, 4205, 4260, 2201, 1632, 1629, 1513, 1389, 1212, 1310, 1080, 1017, 514, 368, 529, 454, 814, 672, 656], \"name\": \"Male\", \"textposition\": \"auto\", \"marker\": {\"color\": \"#9ECAE1\"}}, {\"type\": \"bar\", \"x\": [\"United States\", \"India\", \"Germany\", \"United Kingdom\", \"Canada\", \"Russian Federation\", \"France\", \"Brazil\", \"Australia\", \"Netherlands\", \"Poland\", \"Spain\", \"Italy\", \"Pakistan\", \"China\", \"Turkey\", \"Iran, Islamic Republic of...\", \"Sweden\", \"Switzerland\", \"Ukraine\"], \"y\": [1288, 440, 193, 256, 208, 95, 83, 58, 85, 66, 73, 58, 24, 35, 28, 29, 27, 32, 20, 43], \"orientation\": \"v\", \"text\": [1288, 440, 193, 256, 208, 95, 83, 58, 85, 66, 73, 58, 24, 35, 28, 29, 27, 32, 20, 43], \"name\": \"Female\", \"textposition\": \"auto\", \"marker\": {\"color\": \"#ff99ff\"}}], {\"title\": \"Gender base contribute on Open Source\", \"xaxis\": {\"tickangle\": -25}, \"barmode\": \"group\"}, {\"showLink\": true, \"linkText\": \"Export to plot.ly\"})});</script>"
      ],
      "text/vnd.plotly.v1+html": [
       "<div id=\"ee2b2c5d-01e0-4ea6-b943-319a007e204d\" style=\"height: 525px; width: 100%;\" class=\"plotly-graph-div\"></div><script type=\"text/javascript\">require([\"plotly\"], function(Plotly) { window.PLOTLYENV=window.PLOTLYENV || {};window.PLOTLYENV.BASE_URL=\"https://plot.ly\";Plotly.newPlot(\"ee2b2c5d-01e0-4ea6-b943-319a007e204d\", [{\"type\": \"bar\", \"x\": [\"United States\", \"India\", \"Germany\", \"United Kingdom\", \"Canada\", \"Russian Federation\", \"France\", \"Brazil\", \"Australia\", \"Netherlands\", \"Poland\", \"Spain\", \"Italy\", \"Pakistan\", \"China\", \"Turkey\", \"Iran, Islamic Republic of...\", \"Sweden\", \"Switzerland\", \"Ukraine\"], \"y\": [13914, 6213, 4205, 4260, 2201, 1632, 1629, 1513, 1389, 1212, 1310, 1080, 1017, 514, 368, 529, 454, 814, 672, 656], \"orientation\": \"v\", \"text\": [13914, 6213, 4205, 4260, 2201, 1632, 1629, 1513, 1389, 1212, 1310, 1080, 1017, 514, 368, 529, 454, 814, 672, 656], \"name\": \"Male\", \"textposition\": \"auto\", \"marker\": {\"color\": \"#9ECAE1\"}}, {\"type\": \"bar\", \"x\": [\"United States\", \"India\", \"Germany\", \"United Kingdom\", \"Canada\", \"Russian Federation\", \"France\", \"Brazil\", \"Australia\", \"Netherlands\", \"Poland\", \"Spain\", \"Italy\", \"Pakistan\", \"China\", \"Turkey\", \"Iran, Islamic Republic of...\", \"Sweden\", \"Switzerland\", \"Ukraine\"], \"y\": [1288, 440, 193, 256, 208, 95, 83, 58, 85, 66, 73, 58, 24, 35, 28, 29, 27, 32, 20, 43], \"orientation\": \"v\", \"text\": [1288, 440, 193, 256, 208, 95, 83, 58, 85, 66, 73, 58, 24, 35, 28, 29, 27, 32, 20, 43], \"name\": \"Female\", \"textposition\": \"auto\", \"marker\": {\"color\": \"#ff99ff\"}}], {\"title\": \"Gender base contribute on Open Source\", \"xaxis\": {\"tickangle\": -25}, \"barmode\": \"group\"}, {\"showLink\": true, \"linkText\": \"Export to plot.ly\"})});</script>"
      ]
     },
     "metadata": {},
     "output_type": "display_data"
    }
   ],
   "source": [
    "temp1 = []\n",
    "temp2 = []\n",
    "for val in oscontrib.index:\n",
    "    temp1.append(sum(results[\"Gender\"][results['Country'] == val] == \"Male\"))\n",
    "    temp2.append(sum(results[\"Gender\"][results['Country'] == val] == \"Female\"))\n",
    "\n",
    "plotlybar(oscontrib.index, temp1, 'Male', oscontrib.index, temp2, 'Female',\n",
    "         '#9ECAE1','#ff99ff', title = 'Gender base contribute on Open Source')"
   ]
  },
  {
   "cell_type": "code",
   "execution_count": 85,
   "metadata": {},
   "outputs": [
    {
     "data": {
      "application/vnd.plotly.v1+json": {
       "data": [
        {
         "hole": 0.4,
         "labels": [
          "Employed full-time",
          "Independent contractor, freelancer, or self-employed",
          "Not employed, but looking for work",
          "Employed part-time",
          "Not employed, and not looking for work",
          "Retired"
         ],
         "marker": {
          "colors": [
           "#FEBFB3",
           "#E1396C",
           "#ff9933",
           "#ffd480",
           "#ff6699",
           "#ffa366"
          ]
         },
         "pull": 0.05,
         "type": "pie",
         "values": [
          70495,
          9282,
          5805,
          5380,
          4132,
          227
         ]
        }
       ],
       "layout": {
        "title": "Developer`s employment status"
       }
      },
      "text/html": [
       "<div id=\"c4f36d49-44d1-4f35-b0d5-e93b58d722f8\" style=\"height: 525px; width: 100%;\" class=\"plotly-graph-div\"></div><script type=\"text/javascript\">require([\"plotly\"], function(Plotly) { window.PLOTLYENV=window.PLOTLYENV || {};window.PLOTLYENV.BASE_URL=\"https://plot.ly\";Plotly.newPlot(\"c4f36d49-44d1-4f35-b0d5-e93b58d722f8\", [{\"type\": \"pie\", \"labels\": [\"Employed full-time\", \"Independent contractor, freelancer, or self-employed\", \"Not employed, but looking for work\", \"Employed part-time\", \"Not employed, and not looking for work\", \"Retired\"], \"values\": [70495, 9282, 5805, 5380, 4132, 227], \"hole\": 0.4, \"pull\": 0.05, \"marker\": {\"colors\": [\"#FEBFB3\", \"#E1396C\", \"#ff9933\", \"#ffd480\", \"#ff6699\", \"#ffa366\"]}}], {\"title\": \"Developer`s employment status\"}, {\"showLink\": true, \"linkText\": \"Export to plot.ly\"})});</script>"
      ],
      "text/vnd.plotly.v1+html": [
       "<div id=\"c4f36d49-44d1-4f35-b0d5-e93b58d722f8\" style=\"height: 525px; width: 100%;\" class=\"plotly-graph-div\"></div><script type=\"text/javascript\">require([\"plotly\"], function(Plotly) { window.PLOTLYENV=window.PLOTLYENV || {};window.PLOTLYENV.BASE_URL=\"https://plot.ly\";Plotly.newPlot(\"c4f36d49-44d1-4f35-b0d5-e93b58d722f8\", [{\"type\": \"pie\", \"labels\": [\"Employed full-time\", \"Independent contractor, freelancer, or self-employed\", \"Not employed, but looking for work\", \"Employed part-time\", \"Not employed, and not looking for work\", \"Retired\"], \"values\": [70495, 9282, 5805, 5380, 4132, 227], \"hole\": 0.4, \"pull\": 0.05, \"marker\": {\"colors\": [\"#FEBFB3\", \"#E1396C\", \"#ff9933\", \"#ffd480\", \"#ff6699\", \"#ffa366\"]}}], {\"title\": \"Developer`s employment status\"}, {\"showLink\": true, \"linkText\": \"Export to plot.ly\"})});</script>"
      ]
     },
     "metadata": {},
     "output_type": "display_data"
    },
    {
     "data": {
      "image/png": "[encoded data removed]",
      "text/plain": [
       "<matplotlib.figure.Figure at 0x1630c754ef0>"
      ]
     },
     "metadata": {},
     "output_type": "display_data"
    }
   ],
   "source": [
    "employment = results['Employment'].value_counts()\n",
    "colors = ['#FEBFB3', '#E1396C','#ff9933', '#ffd480', '#ff6699', '#ffa366']\n",
    "plotlypie(employment.index, employment.values, 0.4, 0.05, colors, 'Developer`s employment status')\n",
    "snsstripplot(results['Employment'], np.log(results[\"ConvertedSalary\"]), title='Salary based on Employement status')"
   ]
  },
  {
   "cell_type": "code",
   "execution_count": 87,
   "metadata": {},
   "outputs": [
    {
     "data": {
      "application/vnd.plotly.v1+json": {
       "data": [
        {
         "marker": {
          "color": "#9ECAE1"
         },
         "name": "Formal edduction distribution",
         "orientation": "v",
         "text": [
          43659,
          21396,
          11710,
          8951,
          2970,
          2214,
          1656,
          1447,
          700
         ],
         "textposition": "auto",
         "type": "bar",
         "x": [
          "Bachelor’s degree (BA, BS, B.Eng., etc.)",
          "Master’s degree (MA, MS, M.Eng., MBA, etc.)",
          "Some college/university study without earning a degree",
          "Secondary school (e.g. American high school, German Realschule or Gymnasium, etc.)",
          "Associate degree",
          "Other doctoral degree (Ph.D, Ed.D., etc.)",
          "Primary/elementary school",
          "Professional degree (JD, MD, etc.)",
          "I never completed any formal education"
         ],
         "y": [
          43659,
          21396,
          11710,
          8951,
          2970,
          2214,
          1656,
          1447,
          700
         ]
        }
       ],
       "layout": {
        "barmode": "group",
        "title": null,
        "xaxis": {
         "tickangle": -25
        }
       }
      },
      "text/html": [
       "<div id=\"e5483233-573a-432f-ace1-a5001142e9e1\" style=\"height: 525px; width: 100%;\" class=\"plotly-graph-div\"></div><script type=\"text/javascript\">require([\"plotly\"], function(Plotly) { window.PLOTLYENV=window.PLOTLYENV || {};window.PLOTLYENV.BASE_URL=\"https://plot.ly\";Plotly.newPlot(\"e5483233-573a-432f-ace1-a5001142e9e1\", [{\"type\": \"bar\", \"x\": [\"Bachelor\\u2019s degree (BA, BS, B.Eng., etc.)\", \"Master\\u2019s degree (MA, MS, M.Eng., MBA, etc.)\", \"Some college/university study without earning a degree\", \"Secondary school (e.g. American high school, German Realschule or Gymnasium, etc.)\", \"Associate degree\", \"Other doctoral degree (Ph.D, Ed.D., etc.)\", \"Primary/elementary school\", \"Professional degree (JD, MD, etc.)\", \"I never completed any formal education\"], \"y\": [43659, 21396, 11710, 8951, 2970, 2214, 1656, 1447, 700], \"orientation\": \"v\", \"text\": [43659, 21396, 11710, 8951, 2970, 2214, 1656, 1447, 700], \"name\": \"Formal edduction distribution\", \"textposition\": \"auto\", \"marker\": {\"color\": \"#9ECAE1\"}}], {\"title\": null, \"xaxis\": {\"tickangle\": -25}, \"barmode\": \"group\"}, {\"showLink\": true, \"linkText\": \"Export to plot.ly\"})});</script>"
      ],
      "text/vnd.plotly.v1+html": [
       "<div id=\"e5483233-573a-432f-ace1-a5001142e9e1\" style=\"height: 525px; width: 100%;\" class=\"plotly-graph-div\"></div><script type=\"text/javascript\">require([\"plotly\"], function(Plotly) { window.PLOTLYENV=window.PLOTLYENV || {};window.PLOTLYENV.BASE_URL=\"https://plot.ly\";Plotly.newPlot(\"e5483233-573a-432f-ace1-a5001142e9e1\", [{\"type\": \"bar\", \"x\": [\"Bachelor\\u2019s degree (BA, BS, B.Eng., etc.)\", \"Master\\u2019s degree (MA, MS, M.Eng., MBA, etc.)\", \"Some college/university study without earning a degree\", \"Secondary school (e.g. American high school, German Realschule or Gymnasium, etc.)\", \"Associate degree\", \"Other doctoral degree (Ph.D, Ed.D., etc.)\", \"Primary/elementary school\", \"Professional degree (JD, MD, etc.)\", \"I never completed any formal education\"], \"y\": [43659, 21396, 11710, 8951, 2970, 2214, 1656, 1447, 700], \"orientation\": \"v\", \"text\": [43659, 21396, 11710, 8951, 2970, 2214, 1656, 1447, 700], \"name\": \"Formal edduction distribution\", \"textposition\": \"auto\", \"marker\": {\"color\": \"#9ECAE1\"}}], {\"title\": null, \"xaxis\": {\"tickangle\": -25}, \"barmode\": \"group\"}, {\"showLink\": true, \"linkText\": \"Export to plot.ly\"})});</script>"
      ]
     },
     "metadata": {},
     "output_type": "display_data"
    }
   ],
   "source": [
    "formaleducation = results[\"FormalEducation\"].value_counts()\n",
    "plotlybar(formaleducation.index, formaleducation.values, 'Formal edduction distribution')"
   ]
  },
  {
   "cell_type": "code",
   "execution_count": 102,
   "metadata": {},
   "outputs": [],
   "source": [
    "temp1 = []\n",
    "temp2 = []\n",
    "for val in formaleducation.index:\n",
    "    temp1.append(np.sum(results[\"Gender\"][results[\"FormalEducation\"] == val] == \"Male\"))\n",
    "    temp2.append(np.sum(results[\"Gender\"][results[\"FormalEducation\"] == val] == \"Female\"))"
   ]
  },
  {
   "cell_type": "code",
   "execution_count": 103,
   "metadata": {},
   "outputs": [
    {
     "data": {
      "application/vnd.plotly.v1+json": {
       "data": [
        {
         "marker": {
          "color": "#9ECAE1"
         },
         "name": "Male",
         "orientation": "v",
         "text": [
          26817,
          13459,
          7649,
          5243,
          1809,
          1557,
          848,
          804,
          258
         ],
         "textposition": "auto",
         "type": "bar",
         "x": [
          "Bachelor’s degree (BA, BS, B.Eng., etc.)",
          "Master’s degree (MA, MS, M.Eng., MBA, etc.)",
          "Some college/university study without earning a degree",
          "Secondary school (e.g. American high school, German Realschule or Gymnasium, etc.)",
          "Associate degree",
          "Other doctoral degree (Ph.D, Ed.D., etc.)",
          "Primary/elementary school",
          "Professional degree (JD, MD, etc.)",
          "I never completed any formal education"
         ],
         "y": [
          26817,
          13459,
          7649,
          5243,
          1809,
          1557,
          848,
          804,
          258
         ]
        },
        {
         "marker": {
          "color": "#ff99ff"
         },
         "name": "Female",
         "orientation": "v",
         "text": [
          2043,
          1002,
          328,
          230,
          124,
          121,
          27,
          46,
          20
         ],
         "textposition": "auto",
         "type": "bar",
         "x": [
          "Bachelor’s degree (BA, BS, B.Eng., etc.)",
          "Master’s degree (MA, MS, M.Eng., MBA, etc.)",
          "Some college/university study without earning a degree",
          "Secondary school (e.g. American high school, German Realschule or Gymnasium, etc.)",
          "Associate degree",
          "Other doctoral degree (Ph.D, Ed.D., etc.)",
          "Primary/elementary school",
          "Professional degree (JD, MD, etc.)",
          "I never completed any formal education"
         ],
         "y": [
          2043,
          1002,
          328,
          230,
          124,
          121,
          27,
          46,
          20
         ]
        }
       ],
       "layout": {
        "barmode": "group",
        "title": "Formal eduction on Male vs Female ",
        "xaxis": {
         "tickangle": -25
        }
       }
      },
      "text/html": [
       "<div id=\"3ff847c9-7152-48b4-a1c0-dd5432bdd877\" style=\"height: 525px; width: 100%;\" class=\"plotly-graph-div\"></div><script type=\"text/javascript\">require([\"plotly\"], function(Plotly) { window.PLOTLYENV=window.PLOTLYENV || {};window.PLOTLYENV.BASE_URL=\"https://plot.ly\";Plotly.newPlot(\"3ff847c9-7152-48b4-a1c0-dd5432bdd877\", [{\"type\": \"bar\", \"x\": [\"Bachelor\\u2019s degree (BA, BS, B.Eng., etc.)\", \"Master\\u2019s degree (MA, MS, M.Eng., MBA, etc.)\", \"Some college/university study without earning a degree\", \"Secondary school (e.g. American high school, German Realschule or Gymnasium, etc.)\", \"Associate degree\", \"Other doctoral degree (Ph.D, Ed.D., etc.)\", \"Primary/elementary school\", \"Professional degree (JD, MD, etc.)\", \"I never completed any formal education\"], \"y\": [26817, 13459, 7649, 5243, 1809, 1557, 848, 804, 258], \"orientation\": \"v\", \"text\": [26817, 13459, 7649, 5243, 1809, 1557, 848, 804, 258], \"name\": \"Male\", \"textposition\": \"auto\", \"marker\": {\"color\": \"#9ECAE1\"}}, {\"type\": \"bar\", \"x\": [\"Bachelor\\u2019s degree (BA, BS, B.Eng., etc.)\", \"Master\\u2019s degree (MA, MS, M.Eng., MBA, etc.)\", \"Some college/university study without earning a degree\", \"Secondary school (e.g. American high school, German Realschule or Gymnasium, etc.)\", \"Associate degree\", \"Other doctoral degree (Ph.D, Ed.D., etc.)\", \"Primary/elementary school\", \"Professional degree (JD, MD, etc.)\", \"I never completed any formal education\"], \"y\": [2043, 1002, 328, 230, 124, 121, 27, 46, 20], \"orientation\": \"v\", \"text\": [2043, 1002, 328, 230, 124, 121, 27, 46, 20], \"name\": \"Female\", \"textposition\": \"auto\", \"marker\": {\"color\": \"#ff99ff\"}}], {\"title\": \"Formal eduction on Male vs Female \", \"xaxis\": {\"tickangle\": -25}, \"barmode\": \"group\"}, {\"showLink\": true, \"linkText\": \"Export to plot.ly\"})});</script>"
      ],
      "text/vnd.plotly.v1+html": [
       "<div id=\"3ff847c9-7152-48b4-a1c0-dd5432bdd877\" style=\"height: 525px; width: 100%;\" class=\"plotly-graph-div\"></div><script type=\"text/javascript\">require([\"plotly\"], function(Plotly) { window.PLOTLYENV=window.PLOTLYENV || {};window.PLOTLYENV.BASE_URL=\"https://plot.ly\";Plotly.newPlot(\"3ff847c9-7152-48b4-a1c0-dd5432bdd877\", [{\"type\": \"bar\", \"x\": [\"Bachelor\\u2019s degree (BA, BS, B.Eng., etc.)\", \"Master\\u2019s degree (MA, MS, M.Eng., MBA, etc.)\", \"Some college/university study without earning a degree\", \"Secondary school (e.g. American high school, German Realschule or Gymnasium, etc.)\", \"Associate degree\", \"Other doctoral degree (Ph.D, Ed.D., etc.)\", \"Primary/elementary school\", \"Professional degree (JD, MD, etc.)\", \"I never completed any formal education\"], \"y\": [26817, 13459, 7649, 5243, 1809, 1557, 848, 804, 258], \"orientation\": \"v\", \"text\": [26817, 13459, 7649, 5243, 1809, 1557, 848, 804, 258], \"name\": \"Male\", \"textposition\": \"auto\", \"marker\": {\"color\": \"#9ECAE1\"}}, {\"type\": \"bar\", \"x\": [\"Bachelor\\u2019s degree (BA, BS, B.Eng., etc.)\", \"Master\\u2019s degree (MA, MS, M.Eng., MBA, etc.)\", \"Some college/university study without earning a degree\", \"Secondary school (e.g. American high school, German Realschule or Gymnasium, etc.)\", \"Associate degree\", \"Other doctoral degree (Ph.D, Ed.D., etc.)\", \"Primary/elementary school\", \"Professional degree (JD, MD, etc.)\", \"I never completed any formal education\"], \"y\": [2043, 1002, 328, 230, 124, 121, 27, 46, 20], \"orientation\": \"v\", \"text\": [2043, 1002, 328, 230, 124, 121, 27, 46, 20], \"name\": \"Female\", \"textposition\": \"auto\", \"marker\": {\"color\": \"#ff99ff\"}}], {\"title\": \"Formal eduction on Male vs Female \", \"xaxis\": {\"tickangle\": -25}, \"barmode\": \"group\"}, {\"showLink\": true, \"linkText\": \"Export to plot.ly\"})});</script>"
      ]
     },
     "metadata": {},
     "output_type": "display_data"
    }
   ],
   "source": [
    "plotlybar(formaleducation.index, temp1, 'Male', formaleducation.index, temp2, 'Female'\n",
    "         ,'#9ECAE1','#ff99ff', 'Formal eduction on Male vs Female ')"
   ]
  },
  {
   "cell_type": "code",
   "execution_count": 105,
   "metadata": {},
   "outputs": [
    {
     "data": {
      "image/png": "[encoded data removed]",
      "text/plain": [
       "<matplotlib.figure.Figure at 0x1630cb19160>"
      ]
     },
     "metadata": {},
     "output_type": "display_data"
    }
   ],
   "source": [
    "snslvplot(results[\"FormalEducation\"], np.log(results[\"ConvertedSalary\"]), title='Salary based on Formal Education')"
   ]
  },
  {
   "cell_type": "code",
   "execution_count": 106,
   "metadata": {},
   "outputs": [
    {
     "data": {
      "text/plain": [
       "<matplotlib.axes._subplots.AxesSubplot at 0x1630cabc550>"
      ]
     },
     "execution_count": 106,
     "metadata": {},
     "output_type": "execute_result"
    },
    {
     "data": {
      "image/png": "[encoded data removed]",
      "text/plain": [
       "<matplotlib.figure.Figure at 0x1631cbea9b0>"
      ]
     },
     "metadata": {},
     "output_type": "display_data"
    }
   ],
   "source": [
    "plt.figure(figsize=(18,10))\n",
    "sns.countplot(x=results[\"CompanySize\"], hue=results[\"JobSatisfaction\"])"
   ]
  },
  {
   "cell_type": "code",
   "execution_count": 119,
   "metadata": {},
   "outputs": [
    {
     "data": {
      "text/plain": [
       "Back-end developer                              53300\n",
       "Full-stack developer                            44353\n",
       "Front-end developer                             34822\n",
       "Mobile developer                                18804\n",
       "Desktop or enterprise applications developer    15807\n",
       "dtype: int64"
      ]
     },
     "execution_count": 119,
     "metadata": {},
     "output_type": "execute_result"
    }
   ],
   "source": [
    "temp = pd.DataFrame(results[\"DevType\"].dropna().str.split(';').tolist()).stack()\n",
    "temp = temp.value_counts()\n",
    "temp.head()"
   ]
  },
  {
   "cell_type": "code",
   "execution_count": 120,
   "metadata": {},
   "outputs": [
    {
     "data": {
      "image/png": "[encoded data removed]",
      "text/plain": [
       "<matplotlib.figure.Figure at 0x16316ad4e10>"
      ]
     },
     "metadata": {},
     "output_type": "display_data"
    }
   ],
   "source": [
    "plt.figure(figsize = (14,8))\n",
    "plt.subplot(1,2,1)\n",
    "ax1 = sns.distplot(np.log(results[\"ConvertedSalary\"].dropna() + 1))\n",
    "ax1.set_title('Histogram of Converted salary')\n",
    "\n",
    "plt.subplot(1,2,2)\n",
    "plt.scatter(range(results.shape[0]), np.sort(results['ConvertedSalary'].values))\n",
    "plt.title(\"Distribution of Converted Salary\")\n",
    "plt.show()"
   ]
  },
  {
   "cell_type": "code",
   "execution_count": 121,
   "metadata": {
    "collapsed": true
   },
   "outputs": [],
   "source": [
    "salaryByCountry = results.groupby([\"Country\",\"Code\"]).agg({'ConvertedSalary' : 'median', 'Respondent' : 'count'}).reset_index()"
   ]
  },
  {
   "cell_type": "code",
   "execution_count": 123,
   "metadata": {},
   "outputs": [],
   "source": [
    "salaryByCountry.dropna(axis=0, how='any', inplace = True)\n",
    "salaryByCountry = salaryByCountry[salaryByCountry['Respondent'] > 100]"
   ]
  },
  {
   "cell_type": "code",
   "execution_count": 124,
   "metadata": {
    "collapsed": true
   },
   "outputs": [],
   "source": [
    "data = [dict(\n",
    "    type = 'chloropleth',\n",
    "    locations = salaryByCountry[\"Code\"],\n",
    "    z = salaryByCountry[\"ConvertedSalary\"],\n",
    "    text = salaryByCountry[\"Country\"],\n",
    "    colorscale = 'Jet'\n",
    ")]"
   ]
  },
  {
   "cell_type": "code",
   "execution_count": 146,
   "metadata": {},
   "outputs": [
    {
     "data": {
      "application/vnd.plotly.v1+json": {
       "data": [
        {
         "colorscale": "Jet",
         "locations": [
          "ALB",
          "DZA",
          "ARG",
          "ARM",
          "AUS",
          "AUT",
          "BGD",
          "BLR",
          "BEL",
          "BIH",
          "BRA",
          "BGR",
          "CAN",
          "CHL",
          "CHN",
          "COL",
          "HRV",
          "CZE",
          "DNK",
          "DOM",
          "EGY",
          "EST",
          "FIN",
          "FRA",
          "DEU",
          "GRC",
          "HKG",
          "HUN",
          "IND",
          "IDN",
          "IRN",
          "IRL",
          "ISR",
          "ITA",
          "JPN",
          "KAZ",
          "KEN",
          "LVA",
          "LBN",
          "LTU",
          "MYS",
          "MEX",
          "MAR",
          "NPL",
          "NLD",
          "NZL",
          "NGA",
          "NOR",
          "PAK",
          "PER",
          "PHL",
          "POL",
          "PRT",
          "ROU",
          "RUS",
          "SAU",
          "SRB",
          "SGP",
          "SVK",
          "SVN",
          "ZAF",
          "KOR",
          "ESP",
          "LKA",
          "SWE",
          "CHE",
          "TWN",
          "THA",
          "TUN",
          "TUR",
          "UKR",
          "ARE",
          "GBR",
          "USA",
          "URY",
          "VEN",
          "VNM"
         ],
         "text": [
          "Albania",
          "Algeria",
          "Argentina",
          "Armenia",
          "Australia",
          "Austria",
          "Bangladesh",
          "Belarus",
          "Belgium",
          "Bosnia and Herzegovina",
          "Brazil",
          "Bulgaria",
          "Canada",
          "Chile",
          "China",
          "Colombia",
          "Croatia",
          "Czech Republic",
          "Denmark",
          "Dominican Republic",
          "Egypt",
          "Estonia",
          "Finland",
          "France",
          "Germany",
          "Greece",
          "Hong Kong (S.A.R.)",
          "Hungary",
          "India",
          "Indonesia",
          "Iran, Islamic Republic of...",
          "Ireland",
          "Israel",
          "Italy",
          "Japan",
          "Kazakhstan",
          "Kenya",
          "Latvia",
          "Lebanon",
          "Lithuania",
          "Malaysia",
          "Mexico",
          "Morocco",
          "Nepal",
          "Netherlands",
          "New Zealand",
          "Nigeria",
          "Norway",
          "Pakistan",
          "Peru",
          "Philippines",
          "Poland",
          "Portugal",
          "Romania",
          "Russian Federation",
          "Saudi Arabia",
          "Serbia",
          "Singapore",
          "Slovakia",
          "Slovenia",
          "South Africa",
          "South Korea",
          "Spain",
          "Sri Lanka",
          "Sweden",
          "Switzerland",
          "Taiwan",
          "Thailand",
          "Tunisia",
          "Turkey",
          "Ukraine",
          "United Arab Emirates",
          "United Kingdom",
          "United States",
          "Uruguay",
          "Venezuela, Bolivarian Republic of...",
          "Viet Nam"
         ],
         "type": "choropleth",
         "z": [
          11748,
          7278,
          24000,
          18660,
          79973,
          53604,
          10000,
          20400,
          46116,
          29376,
          18720,
          28536,
          64417,
          29736,
          26184,
          18000,
          25656,
          31461,
          82836,
          18000,
          7854,
          36718,
          58752,
          48955,
          61194,
          24230.5,
          46056,
          30786,
          9396,
          5820,
          10000,
          74657,
          90642,
          39164,
          54023,
          12000,
          12000,
          31821,
          24000,
          29376,
          14412,
          16764,
          12000,
          4704,
          55075,
          65776,
          6000,
          82890,
          7592,
          13068,
          6852,
          31764,
          26925,
          29796,
          21228,
          38400,
          29376,
          49968,
          29376,
          34512,
          41204,
          46715,
          37695.5,
          9360,
          58392,
          93842,
          26205.5,
          28584,
          7320,
          23844,
          20400,
          42468,
          62507,
          100000,
          38050,
          8100,
          9516
         ]
        }
       ],
       "layout": {
        "geo": {
         "lataxis": {
          "gridcolor": "rgb(102, 102, 102)",
          "showgrid": true
         },
         "lonaxis": {
          "gridcolor": "rgb(102, 102, 102)",
          "showgrid": true
         },
         "oceancolor": "rgb(0,255,255)",
         "projection": {
          "rotation": {
           "lat": 60,
           "lon": 60
          },
          "type": "orthographic"
         },
         "showcoastlines": false,
         "showframe": false,
         "showocean": true
        },
        "title": "Top countries from which developers responded"
       }
      },
      "text/html": [
       "<div id=\"1b17b996-b605-4593-8b9d-391e66433b9b\" style=\"height: 525px; width: 100%;\" class=\"plotly-graph-div\"></div><script type=\"text/javascript\">require([\"plotly\"], function(Plotly) { window.PLOTLYENV=window.PLOTLYENV || {};window.PLOTLYENV.BASE_URL=\"https://plot.ly\";Plotly.newPlot(\"1b17b996-b605-4593-8b9d-391e66433b9b\", [{\"type\": \"choropleth\", \"locations\": [\"ALB\", \"DZA\", \"ARG\", \"ARM\", \"AUS\", \"AUT\", \"BGD\", \"BLR\", \"BEL\", \"BIH\", \"BRA\", \"BGR\", \"CAN\", \"CHL\", \"CHN\", \"COL\", \"HRV\", \"CZE\", \"DNK\", \"DOM\", \"EGY\", \"EST\", \"FIN\", \"FRA\", \"DEU\", \"GRC\", \"HKG\", \"HUN\", \"IND\", \"IDN\", \"IRN\", \"IRL\", \"ISR\", \"ITA\", \"JPN\", \"KAZ\", \"KEN\", \"LVA\", \"LBN\", \"LTU\", \"MYS\", \"MEX\", \"MAR\", \"NPL\", \"NLD\", \"NZL\", \"NGA\", \"NOR\", \"PAK\", \"PER\", \"PHL\", \"POL\", \"PRT\", \"ROU\", \"RUS\", \"SAU\", \"SRB\", \"SGP\", \"SVK\", \"SVN\", \"ZAF\", \"KOR\", \"ESP\", \"LKA\", \"SWE\", \"CHE\", \"TWN\", \"THA\", \"TUN\", \"TUR\", \"UKR\", \"ARE\", \"GBR\", \"USA\", \"URY\", \"VEN\", \"VNM\"], \"z\": [11748.0, 7278.0, 24000.0, 18660.0, 79973.0, 53604.0, 10000.0, 20400.0, 46116.0, 29376.0, 18720.0, 28536.0, 64417.0, 29736.0, 26184.0, 18000.0, 25656.0, 31461.0, 82836.0, 18000.0, 7854.0, 36718.0, 58752.0, 48955.0, 61194.0, 24230.5, 46056.0, 30786.0, 9396.0, 5820.0, 10000.0, 74657.0, 90642.0, 39164.0, 54023.0, 12000.0, 12000.0, 31821.0, 24000.0, 29376.0, 14412.0, 16764.0, 12000.0, 4704.0, 55075.0, 65776.0, 6000.0, 82890.0, 7592.0, 13068.0, 6852.0, 31764.0, 26925.0, 29796.0, 21228.0, 38400.0, 29376.0, 49968.0, 29376.0, 34512.0, 41204.0, 46715.0, 37695.5, 9360.0, 58392.0, 93842.0, 26205.5, 28584.0, 7320.0, 23844.0, 20400.0, 42468.0, 62507.0, 100000.0, 38050.0, 8100.0, 9516.0], \"text\": [\"Albania\", \"Algeria\", \"Argentina\", \"Armenia\", \"Australia\", \"Austria\", \"Bangladesh\", \"Belarus\", \"Belgium\", \"Bosnia and Herzegovina\", \"Brazil\", \"Bulgaria\", \"Canada\", \"Chile\", \"China\", \"Colombia\", \"Croatia\", \"Czech Republic\", \"Denmark\", \"Dominican Republic\", \"Egypt\", \"Estonia\", \"Finland\", \"France\", \"Germany\", \"Greece\", \"Hong Kong (S.A.R.)\", \"Hungary\", \"India\", \"Indonesia\", \"Iran, Islamic Republic of...\", \"Ireland\", \"Israel\", \"Italy\", \"Japan\", \"Kazakhstan\", \"Kenya\", \"Latvia\", \"Lebanon\", \"Lithuania\", \"Malaysia\", \"Mexico\", \"Morocco\", \"Nepal\", \"Netherlands\", \"New Zealand\", \"Nigeria\", \"Norway\", \"Pakistan\", \"Peru\", \"Philippines\", \"Poland\", \"Portugal\", \"Romania\", \"Russian Federation\", \"Saudi Arabia\", \"Serbia\", \"Singapore\", \"Slovakia\", \"Slovenia\", \"South Africa\", \"South Korea\", \"Spain\", \"Sri Lanka\", \"Sweden\", \"Switzerland\", \"Taiwan\", \"Thailand\", \"Tunisia\", \"Turkey\", \"Ukraine\", \"United Arab Emirates\", \"United Kingdom\", \"United States\", \"Uruguay\", \"Venezuela, Bolivarian Republic of...\", \"Viet Nam\"], \"colorscale\": \"Jet\"}], {\"title\": \"Top countries from which developers responded\", \"geo\": {\"showframe\": false, \"showcoastlines\": false, \"showocean\": true, \"oceancolor\": \"rgb(0,255,255)\", \"projection\": {\"type\": \"orthographic\", \"rotation\": {\"lon\": 60, \"lat\": 60}}, \"lonaxis\": {\"showgrid\": true, \"gridcolor\": \"rgb(102, 102, 102)\"}, \"lataxis\": {\"showgrid\": true, \"gridcolor\": \"rgb(102, 102, 102)\"}}}, {\"showLink\": true, \"linkText\": \"Export to plot.ly\"})});</script>"
      ],
      "text/vnd.plotly.v1+html": [
       "<div id=\"1b17b996-b605-4593-8b9d-391e66433b9b\" style=\"height: 525px; width: 100%;\" class=\"plotly-graph-div\"></div><script type=\"text/javascript\">require([\"plotly\"], function(Plotly) { window.PLOTLYENV=window.PLOTLYENV || {};window.PLOTLYENV.BASE_URL=\"https://plot.ly\";Plotly.newPlot(\"1b17b996-b605-4593-8b9d-391e66433b9b\", [{\"type\": \"choropleth\", \"locations\": [\"ALB\", \"DZA\", \"ARG\", \"ARM\", \"AUS\", \"AUT\", \"BGD\", \"BLR\", \"BEL\", \"BIH\", \"BRA\", \"BGR\", \"CAN\", \"CHL\", \"CHN\", \"COL\", \"HRV\", \"CZE\", \"DNK\", \"DOM\", \"EGY\", \"EST\", \"FIN\", \"FRA\", \"DEU\", \"GRC\", \"HKG\", \"HUN\", \"IND\", \"IDN\", \"IRN\", \"IRL\", \"ISR\", \"ITA\", \"JPN\", \"KAZ\", \"KEN\", \"LVA\", \"LBN\", \"LTU\", \"MYS\", \"MEX\", \"MAR\", \"NPL\", \"NLD\", \"NZL\", \"NGA\", \"NOR\", \"PAK\", \"PER\", \"PHL\", \"POL\", \"PRT\", \"ROU\", \"RUS\", \"SAU\", \"SRB\", \"SGP\", \"SVK\", \"SVN\", \"ZAF\", \"KOR\", \"ESP\", \"LKA\", \"SWE\", \"CHE\", \"TWN\", \"THA\", \"TUN\", \"TUR\", \"UKR\", \"ARE\", \"GBR\", \"USA\", \"URY\", \"VEN\", \"VNM\"], \"z\": [11748.0, 7278.0, 24000.0, 18660.0, 79973.0, 53604.0, 10000.0, 20400.0, 46116.0, 29376.0, 18720.0, 28536.0, 64417.0, 29736.0, 26184.0, 18000.0, 25656.0, 31461.0, 82836.0, 18000.0, 7854.0, 36718.0, 58752.0, 48955.0, 61194.0, 24230.5, 46056.0, 30786.0, 9396.0, 5820.0, 10000.0, 74657.0, 90642.0, 39164.0, 54023.0, 12000.0, 12000.0, 31821.0, 24000.0, 29376.0, 14412.0, 16764.0, 12000.0, 4704.0, 55075.0, 65776.0, 6000.0, 82890.0, 7592.0, 13068.0, 6852.0, 31764.0, 26925.0, 29796.0, 21228.0, 38400.0, 29376.0, 49968.0, 29376.0, 34512.0, 41204.0, 46715.0, 37695.5, 9360.0, 58392.0, 93842.0, 26205.5, 28584.0, 7320.0, 23844.0, 20400.0, 42468.0, 62507.0, 100000.0, 38050.0, 8100.0, 9516.0], \"text\": [\"Albania\", \"Algeria\", \"Argentina\", \"Armenia\", \"Australia\", \"Austria\", \"Bangladesh\", \"Belarus\", \"Belgium\", \"Bosnia and Herzegovina\", \"Brazil\", \"Bulgaria\", \"Canada\", \"Chile\", \"China\", \"Colombia\", \"Croatia\", \"Czech Republic\", \"Denmark\", \"Dominican Republic\", \"Egypt\", \"Estonia\", \"Finland\", \"France\", \"Germany\", \"Greece\", \"Hong Kong (S.A.R.)\", \"Hungary\", \"India\", \"Indonesia\", \"Iran, Islamic Republic of...\", \"Ireland\", \"Israel\", \"Italy\", \"Japan\", \"Kazakhstan\", \"Kenya\", \"Latvia\", \"Lebanon\", \"Lithuania\", \"Malaysia\", \"Mexico\", \"Morocco\", \"Nepal\", \"Netherlands\", \"New Zealand\", \"Nigeria\", \"Norway\", \"Pakistan\", \"Peru\", \"Philippines\", \"Poland\", \"Portugal\", \"Romania\", \"Russian Federation\", \"Saudi Arabia\", \"Serbia\", \"Singapore\", \"Slovakia\", \"Slovenia\", \"South Africa\", \"South Korea\", \"Spain\", \"Sri Lanka\", \"Sweden\", \"Switzerland\", \"Taiwan\", \"Thailand\", \"Tunisia\", \"Turkey\", \"Ukraine\", \"United Arab Emirates\", \"United Kingdom\", \"United States\", \"Uruguay\", \"Venezuela, Bolivarian Republic of...\", \"Viet Nam\"], \"colorscale\": \"Jet\"}], {\"title\": \"Top countries from which developers responded\", \"geo\": {\"showframe\": false, \"showcoastlines\": false, \"showocean\": true, \"oceancolor\": \"rgb(0,255,255)\", \"projection\": {\"type\": \"orthographic\", \"rotation\": {\"lon\": 60, \"lat\": 60}}, \"lonaxis\": {\"showgrid\": true, \"gridcolor\": \"rgb(102, 102, 102)\"}, \"lataxis\": {\"showgrid\": true, \"gridcolor\": \"rgb(102, 102, 102)\"}}}, {\"showLink\": true, \"linkText\": \"Export to plot.ly\"})});</script>"
      ]
     },
     "metadata": {},
     "output_type": "display_data"
    }
   ],
   "source": [
    "layout = dict(\n",
    "    title = 'Top countries from which developers responded',\n",
    "    geo = dict(\n",
    "        showframe = False,\n",
    "        showcoastlines = False,\n",
    "        showocean = True,\n",
    "        oceancolor = 'rgb(0,255,255)',\n",
    "        projection = dict(\n",
    "            type = 'orthographic',\n",
    "            rotation = dict(\n",
    "                lon = 60,\n",
    "                lat = 60\n",
    "            )\n",
    "        ),\n",
    "        lonaxis = dict(\n",
    "            showgrid = True,\n",
    "            gridcolor = 'rgb(102, 102, 102)'\n",
    "        ),\n",
    "        lataxis = dict(\n",
    "            showgrid = True,\n",
    "            gridcolor = 'rgb(102, 102, 102)'\n",
    "        )\n",
    "    )\n",
    ")\n",
    "\n",
    "\n",
    "fig = dict(data=data,layout=layout)\n",
    "iplot(fig,validate=False)"
   ]
  },
  {
   "cell_type": "code",
   "execution_count": 180,
   "metadata": {},
   "outputs": [],
   "source": [
    "languageWorkedWith  = results[\"LanguageWorkedWith\"].dropna().str.split(';', expand = True).stack().reset_index()"
   ]
  },
  {
   "cell_type": "code",
   "execution_count": 167,
   "metadata": {},
   "outputs": [
    {
     "name": "stdout",
     "output_type": "stream",
     "text": [
      "        level_0  level_1                     0\n",
      "0             0        0            JavaScript\n",
      "1             0        1                Python\n",
      "2             0        2                  HTML\n",
      "3             0        3                   CSS\n",
      "4             1        0            JavaScript\n",
      "5             1        1                Python\n",
      "6             1        2            Bash/Shell\n",
      "7             3        0                    C#\n",
      "8             3        1            JavaScript\n",
      "9             3        2                   SQL\n",
      "10            3        3            TypeScript\n",
      "11            3        4                  HTML\n",
      "12            3        5                   CSS\n",
      "13            3        6            Bash/Shell\n",
      "14            4        0                     C\n",
      "15            4        1                   C++\n",
      "16            4        2                  Java\n",
      "17            4        3                Matlab\n",
      "18            4        4                     R\n",
      "19            4        5                   SQL\n",
      "20            4        6            Bash/Shell\n",
      "21            5        0                  Java\n",
      "22            5        1            JavaScript\n",
      "23            5        2                Python\n",
      "24            5        3            TypeScript\n",
      "25            5        4                  HTML\n",
      "26            5        5                   CSS\n",
      "27            6        0            JavaScript\n",
      "28            6        1                  HTML\n",
      "29            6        2                   CSS\n",
      "...         ...      ...                   ...\n",
      "485638    92497        1                  HTML\n",
      "485639    92497        2                   CSS\n",
      "485640    92498        0                   SQL\n",
      "485641    92498        1  Delphi/Object Pascal\n",
      "485642    92499        0                   SQL\n",
      "485643    92500        0                   SQL\n",
      "485644    92501        0                   SQL\n",
      "485645    92502        0                   SQL\n",
      "485646    92503        0                 Swift\n",
      "485647    92504        0                 Swift\n",
      "485648    92505        0                 Swift\n",
      "485649    92507        0            TypeScript\n",
      "485650    92507        1                  HTML\n",
      "485651    92507        2                   CSS\n",
      "485652    92508        0  Delphi/Object Pascal\n",
      "485653    92509        0  Delphi/Object Pascal\n",
      "485654    92510        0                  HTML\n",
      "485655    92510        1                   CSS\n",
      "485656    92511        0                  HTML\n",
      "485657    92512        0                  HTML\n",
      "485658    92513        0                  HTML\n",
      "485659    92513        1                   CSS\n",
      "485660    92514        0                  HTML\n",
      "485661    92514        1                   CSS\n",
      "485662    92515        0                  HTML\n",
      "485663    92515        1                   CSS\n",
      "485664    92516        0                  HTML\n",
      "485665    92517        0                  HTML\n",
      "485666    92517        1                   CSS\n",
      "485667    92518        0                   CSS\n",
      "\n",
      "[485668 rows x 3 columns]\n"
     ]
    }
   ],
   "source": [
    "print(languageWorkedWith)"
   ]
  },
  {
   "cell_type": "code",
   "execution_count": 181,
   "metadata": {},
   "outputs": [
    {
     "data": {
      "image/png": "[encoded data removed]",
      "text/plain": [
       "<matplotlib.figure.Figure at 0x1631e0d2dd8>"
      ]
     },
     "metadata": {},
     "output_type": "display_data"
    }
   ],
   "source": [
    "languageWorkedWith = languageWorkedWith[0].value_counts().reset_index()\n",
    "languageWorkedWith['type'] = 'LanguageWorkedWith'\n",
    "languageDesireNextYear = results[\"LanguageDesireNextYear\"].dropna().str.split(';', expand = True).stack().reset_index()\n",
    "languageDesireNextYear = languageDesireNextYear[0].value_counts().reset_index()\n",
    "languageDesireNextYear['type'] = 'LanguageDesireNextYear'\n",
    "data = pd.concat([languageWorkedWith,languageDesireNextYear], axis=0)\n",
    "data = data.rename(columns={0:'count'})\n",
    "snspointplot('index','count',data,'type','Language Worked vs Language desired to Work')"
   ]
  },
  {
   "cell_type": "code",
   "execution_count": null,
   "metadata": {
    "collapsed": true
   },
   "outputs": [],
   "source": [
    "languageWorkedWith = results[\"LanguageWorkedWith\"].dropna().str.split(';', expand = True).stack().reset_index()\n",
    "languageWorkedWith = languageWorkedWith[0].value_counts().reset_index()\n",
    "languageWorkedWith['type'] = 'LanguageWorkedWith'\n",
    "languageDesireNextYear = results[\"LanguageDesireNextYear\"].dropna().str.split(';', expand = True).stack().reset_index()\n",
    "languageDesireNextYear = languageDesireNextYear[0].value_counts().reset_index()\n",
    "languageDesireNextYear['type'] = 'LanguageDesireNextYear'\n",
    "data = pd.concat([languageWorkedWith,languageDesireNextYear],axis=0)\n",
    "data = data.rename(columns ={0 : 'count'})\n",
    "snspointplot('index', 'count', data, 'type', 'Language Worked vs Language desired to Work')"
   ]
  },
  {
   "cell_type": "code",
   "execution_count": 198,
   "metadata": {},
   "outputs": [
    {
     "data": {
      "image/png": "[encoded data removed]",
      "text/plain": [
       "<matplotlib.figure.Figure at 0x1632597f160>"
      ]
     },
     "metadata": {},
     "output_type": "display_data"
    }
   ],
   "source": [
    "databaseWorkedWith = results[\"DatabaseWorkedWith\"].dropna().str.split(';',expand = True).stack().reset_index()\n",
    "databaseWorkedWith = databaseWorkedWith[0].value_counts().reset_index()\n",
    "databaseWorkedWith['type'] = 'DatabaseWorkedWith'\n",
    "\n",
    "databaseDesireNextYear = results[\"DatabaseDesireNextYear\"].dropna().str.split(';',expand = True).stack().reset_index()\n",
    "databaseDesireNextYear = databaseDesireNextYear[0].value_counts().reset_index()\n",
    "databaseDesireNextYear['type'] = 'DatabaseDesireNextYear'\n",
    "\n",
    "data = pd.concat([databaseWorkedWith,databaseDesireNextYear], axis=0)\n",
    "data = data.rename(columns={0:'count'})\n",
    "#data\n",
    "snspointplot('index','count',data,'type','Database Worked vs Database desired to Work')"
   ]
  },
  {
   "cell_type": "code",
   "execution_count": null,
   "metadata": {
    "collapsed": true
   },
   "outputs": [],
   "source": []
  },
  {
   "cell_type": "code",
   "execution_count": null,
   "metadata": {
    "collapsed": true
   },
   "outputs": [],
   "source": []
  },
  {
   "cell_type": "code",
   "execution_count": null,
   "metadata": {
    "collapsed": true
   },
   "outputs": [],
   "source": []
  },
  {
   "cell_type": "code",
   "execution_count": null,
   "metadata": {
    "collapsed": true
   },
   "outputs": [],
   "source": []
  }
 ],
 "metadata": {
  "kernelspec": {
   "display_name": "Python 3",
   "language": "python",
   "name": "python3"
  },
  "language_info": {
   "codemirror_mode": {
    "name": "ipython",
    "version": 3
   },
   "file_extension": ".py",
   "mimetype": "text/x-python",
   "name": "python",
   "nbconvert_exporter": "python",
   "pygments_lexer": "ipython3",
   "version": "3.6.3"
  }
 },
 "nbformat": 4,
 "nbformat_minor": 2
}
